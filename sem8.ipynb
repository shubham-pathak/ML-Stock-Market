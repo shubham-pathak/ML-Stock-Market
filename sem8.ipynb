{
 "cells": [
  {
   "cell_type": "code",
   "execution_count": 50,
   "metadata": {
    "collapsed": false
   },
   "outputs": [
    {
     "name": "stdout",
     "output_type": "stream",
     "text": [
      "494\n"
     ]
    }
   ],
   "source": [
    "#n is 50\n",
    "import pylab \n",
    "import matplotlib\n",
    "import datetime as dt\n",
    "import csv\n",
    "import statistics as stat\n",
    "import matplotlib.pyplot as plt\n",
    "import numpy as np \n",
    "import pandas as pd\n",
    "with open(\"adates.csv\") as csvfile:\n",
    "    readCSV= csv.reader(csvfile)\n",
    "    vol=[]\n",
    "    close_price=[]\n",
    "    dates=[]\n",
    "    for i in readCSV:\n",
    "        price=i[8]\n",
    "        date= i[2]\n",
    "        volume=i[10]\n",
    "\n",
    "        close_price.append(price)\n",
    "        dates.append(date)\n",
    "        vol.append(volume)\n",
    "close_price.remove(close_price[0]);\n",
    "dates.remove(dates[0]);\n",
    "vol.remove(vol[0]);\n",
    "y= np.array(close_price).astype('float')\n",
    "vole= np.array(vol).astype('float')\n",
    "x = [dt.datetime.strptime(d,'%d-%b-%Y').date() for d in dates]\n",
    "#y = range(len(x))\n",
    "#plt.gca().xaxis.set_major_formatter(mdates.DateFormatter('%d-%b-%Y'))\n",
    "  \n",
    "#print(x)\n",
    "print(len(dates))\n",
    "#X= np.array(time).astype('float')\n",
    "\n"
   ]
  },
  {
   "cell_type": "code",
   "execution_count": 51,
   "metadata": {
    "collapsed": false
   },
   "outputs": [
    {
     "data": {
      "image/png": "[encoded data removed]",
      "text/plain": [
       "<matplotlib.figure.Figure at 0x3862c59fd0>"
      ]
     },
     "metadata": {},
     "output_type": "display_data"
    },
    {
     "data": {
      "image/png": "[encoded data removed]",
      "text/plain": [
       "<matplotlib.figure.Figure at 0x3862b550f0>"
      ]
     },
     "metadata": {},
     "output_type": "display_data"
    }
   ],
   "source": [
    "#fig=plt.figure(figsize=(8, 6), dpi= 800, facecolor='w', edgecolor='k')\n",
    "plt.plot(x,y,label=\"plot A\")\n",
    "plt.gcf().autofmt_xdate()\n",
    "\n",
    "plt.title('Price Plot',size=20)\n",
    "plt.ylabel('Price',size=20)\n",
    "plt.xlabel('Time',size=20)\n",
    "#plt.savefig('1.png')\n",
    "#fig.tight_layout()\n",
    "#plt.savefig('output.png', dpi=800, bbox_inches='tight')\n",
    "\n",
    "plt.show() "
   ]
  },
  {
   "cell_type": "code",
   "execution_count": 52,
   "metadata": {
    "collapsed": false
   },
   "outputs": [
    {
     "name": "stdout",
     "output_type": "stream",
     "text": [
      "445\n"
     ]
    }
   ],
   "source": [
    "N=50\n",
    "cumsum, moving_aves = [0], []\n",
    "for i, x in enumerate(y, 1):\n",
    "    cumsum.append(cumsum[i-1] + x)\n",
    "    if i>=N:\n",
    "\n",
    "        moving_ave = (cumsum[i] - cumsum[i-N])/N\n",
    "#         print(cumsum)\n",
    "#         print(moving_ave)\n",
    "\n",
    "        #can do stuff with moving_ave here\n",
    "        moving_aves.append(round(moving_ave,2))\n",
    "# print(moving_aves)\n",
    "#l1=len(moving_aves)\n",
    "#print(l2)\n",
    "#print(type(moving_aves))\n",
    "sma=np.array(moving_aves).astype('float')\n",
    "#MA=np.array(moving_aves).astype('str')\n",
    "#print(sma)\n",
    "print(len(sma))"
   ]
  },
  {
   "cell_type": "code",
   "execution_count": 53,
   "metadata": {
    "collapsed": false
   },
   "outputs": [
    {
     "data": {
      "text/plain": [
       "\"\\nplt.plot(x[49:],sma)\\nplt.gcf().autofmt_xdate()\\nplt.title('Simple Moving Average')\\nplt.ylabel('Price')\\nplt.xlabel('Time')\\nplt.show()\\n\""
      ]
     },
     "execution_count": 53,
     "metadata": {},
     "output_type": "execute_result"
    }
   ],
   "source": [
    "nema=10\n",
    "ema=np.empty(len(y)-nema+1,float)\n",
    "c=0\n",
    "#n for ema\n",
    "\n",
    "#ema[]\n",
    "\n",
    "#for i in range(nema,len(y)):\n",
    "#    da.append(dates[i])\n",
    "    \n",
    "#x = [dt.datetime.strptime(d,'%d-%b-%Y').date() for d in da ]\n",
    "#y = range(len(x))\n",
    "#plt.gca().xaxis.set_major_formatter(mdates.DateFormatter('%d-%b-%Y'))\n",
    "#fig=plt.figure(figsize=(8, 6), dpi= 800, facecolor='w', edgecolor='k')\n",
    "#plt.plot(x,sma)\n",
    "#plt.gcf().autofmt_xdate()\n",
    "#plt.title('Simple Moving Average',size=20)\n",
    "#plt.ylabel(' SMA Price',size=20)\n",
    "#plt.xlabel('Time',size=20)\n",
    "#plt.savefig('2.png')\n",
    "#plt.show() \n",
    "\n",
    "'''\n",
    "plt.plot(x[49:],sma)\n",
    "plt.gcf().autofmt_xdate()\n",
    "plt.title('Simple Moving Average')\n",
    "plt.ylabel('Price')\n",
    "plt.xlabel('Time')\n",
    "plt.show()\n",
    "'''"
   ]
  },
  {
   "cell_type": "code",
   "execution_count": 54,
   "metadata": {
    "collapsed": true
   },
   "outputs": [],
   "source": [
    "\n",
    "ema[0]=stat.mean(y[0:nema-1])\n",
    "\n"
   ]
  },
  {
   "cell_type": "code",
   "execution_count": 55,
   "metadata": {
    "collapsed": false
   },
   "outputs": [
    {
     "name": "stdout",
     "output_type": "stream",
     "text": [
      "485\n"
     ]
    }
   ],
   "source": [
    "for i in range(1,len(y)-nema):\n",
    "    a=-(ema[i-1]-y[nema-1+i])\n",
    "    ema[i]=a*(2/(N+1)) + ema[i-1]\n",
    "    #print(y[i+49])\n",
    "    #print(i)\n",
    "#print(ema)\n",
    "print(len(ema))"
   ]
  },
  {
   "cell_type": "code",
   "execution_count": 56,
   "metadata": {
    "collapsed": true
   },
   "outputs": [],
   "source": [
    "#fig=plt.figure(figsize=(8,6), dpi= 800, facecolor='w', edgecolor='k')\n",
    "#plt.plot(x,ema)\n",
    "#plt.gcf().autofmt_xdate()\n",
    "#plt.title('Exponential Moving Average',size=20)\n",
    "#plt.ylabel(' EMA Price',size=20)\n",
    "#plt.xlabel('Time',size=20)\n",
    "#plt.savefig('3.png')\n",
    "#plt.show() \n",
    "#fig, ax = plt.subplots()\n",
    "#fig=plt.figure(figsize=(8, 6), dpi= 800, facecolor='w', edgecolor='k')\n",
    "#ax.plot(x,y[N-1:], '-b', label='Simple Moving Average')\n",
    "#ax.plot(x,sma, '-g', label='Upper Band')\n",
    "#ax.plot(x,ema, '-r', label='Lower band')\n",
    "#legend((sma, bbu, bbd), ('label1', 'label2', 'label3'))\n",
    "# Now add the legend with some customizations.\n",
    "#legend = ax.legend(loc='upper center', shadow=False)\n",
    "#plt.gcf().autofmt_xdate()\n",
    "#plt.title('Price,EMA,SMA plot',size=16)\n",
    "#plt.ylabel('Price',size=16)\n",
    "#plt.xlabel('Time',size=16)\n",
    "#plt.savefig('55.png')\n",
    "#fig=plt.figure(figsize=(8,6), dpi= 800, facecolor='w', edgecolor='k')\n",
    "#plt.show() \n"
   ]
  },
  {
   "cell_type": "code",
   "execution_count": 57,
   "metadata": {
    "collapsed": false
   },
   "outputs": [],
   "source": [
    "n_sma_bb=20\n",
    "nbbu=2\n",
    "nbbl=2\n",
    "\n",
    "cumsum, moving_aves = [0], []\n",
    "for i, x in enumerate(y, 1):\n",
    "    cumsum.append(cumsum[i-1] + x)\n",
    "    if i>=n_sma_bb:\n",
    "\n",
    "        moving_ave = (cumsum[i] - cumsum[i-n_sma_bb])/n_sma_bb\n",
    "        moving_aves.append(round(moving_ave,2))\n",
    "sma_bb=np.array(moving_aves).astype('float')\n",
    "dev=np.empty(len(y)-n_sma_bb+1,float)\n"
   ]
  },
  {
   "cell_type": "code",
   "execution_count": 58,
   "metadata": {
    "collapsed": false
   },
   "outputs": [
    {
     "name": "stdout",
     "output_type": "stream",
     "text": [
      "475\n",
      "474\n"
     ]
    }
   ],
   "source": [
    "for i in range(0,len(y)-n_sma_bb):\n",
    "    dev[i]=stat.pstdev(y[i:i+n_sma_bb])\n",
    "#print(dev)\n",
    "print(len(dev))\n",
    "print(len(y)-n_sma_bb)"
   ]
  },
  {
   "cell_type": "code",
   "execution_count": 59,
   "metadata": {
    "collapsed": false
   },
   "outputs": [
    {
     "name": "stdout",
     "output_type": "stream",
     "text": [
      "475\n"
     ]
    },
    {
     "data": {
      "text/plain": [
       "475"
      ]
     },
     "execution_count": 59,
     "metadata": {},
     "output_type": "execute_result"
    }
   ],
   "source": [
    "bbu=np.empty(len(y)-n_sma_bb+1,float)\n",
    "bbd=np.empty(len(y)-n_sma_bb+1,float)\n",
    "print(len(bbd))\n",
    "len(sma_bb)"
   ]
  },
  {
   "cell_type": "code",
   "execution_count": 60,
   "metadata": {
    "collapsed": false
   },
   "outputs": [],
   "source": [
    "for i in range(0,len(y)-n_sma_bb+1):\n",
    "    bbu[i]=sma_bb[i]+2*(dev[i])\n",
    "#print(bbu)\n",
    "#print(len(bbu))\n"
   ]
  },
  {
   "cell_type": "code",
   "execution_count": 61,
   "metadata": {
    "collapsed": true
   },
   "outputs": [],
   "source": [
    "\n",
    "for i in range(0,len(y)-n_sma_bb+1):\n",
    "    bbd[i]=sma_bb[i]-2*(dev[i])\n",
    "#print(bbd)"
   ]
  },
  {
   "cell_type": "code",
   "execution_count": 62,
   "metadata": {
    "collapsed": false
   },
   "outputs": [
    {
     "name": "stdout",
     "output_type": "stream",
     "text": [
      "475\n",
      "475\n",
      "475\n"
     ]
    }
   ],
   "source": [
    "print(len(sma_bb))\n",
    "print(len(bbu))\n",
    "print(len(bbd))"
   ]
  },
  {
   "cell_type": "code",
   "execution_count": 63,
   "metadata": {
    "collapsed": false
   },
   "outputs": [
    {
     "data": {
      "image/png": "[encoded data removed]",
      "text/plain": [
       "<matplotlib.figure.Figure at 0x3862e1a198>"
      ]
     },
     "metadata": {},
     "output_type": "display_data"
    },
    {
     "name": "stdout",
     "output_type": "stream",
     "text": [
      "[[ 969.97551668  936.71        903.44448332]\n",
      " [ 969.51982936  939.34        909.16017064]\n",
      " [ 969.21198029  941.21        913.20801971]\n",
      " ..., \n",
      " [ 900.26886112  881.04        861.81113888]\n",
      " [ 898.40220392  880.28        862.15779608]\n",
      " [ 879.02        879.02        879.02      ]]\n"
     ]
    }
   ],
   "source": [
    "#fig=plt.figure(figsize=(8, 6), dpi= 800, facecolor='w', edgecolor='k')\n",
    "#pylab.plot(x,sma,label='Simple Moving average 50 days')\n",
    "#pylab.plot(x,bbu,label='Upper Band')\n",
    "#pylab.plot(x,bbd,label='Lower Band')\n",
    "#fig=plt.figure(figsize=(8,6), dpi= 800, facecolor='w', edgecolor='k')\n",
    "#fig, ax = plt.subplots()\n",
    "#fig=plt.figure(figsize=(8, 6), dpi= 800, facecolor='w', edgecolor='k')\n",
    "plt.plot(sma_bb, '-r')\n",
    "plt.plot(bbu, '-b')\n",
    "plt.plot(bbd, '-g')\n",
    "#legend((sma, bbu, bbd), ('label1', 'label2', 'label3'))\n",
    "# Now add the legend with some customizations.\n",
    "#legend = ax.legend(loc='upper center', shadow=False)\n",
    "\n",
    "# The frame is matplotlib.patches.Rectangle instance surrounding the legend.\n",
    "#frame = legend.get_frame()\n",
    "#frame.set_facecolor('1')\n",
    "\n",
    "# Set the fontsize\n",
    "#for label in legend.get_texts():\n",
    " #   label.set_fontsize('large')\n",
    "\n",
    "#for label in legend.get_lines():\n",
    " #   label.set_linewidth(1.5)  # the legend line width\n",
    "\n",
    "#plt.gcf().autofmt_xdate()\n",
    "#plt.title('Bollinger Band',size=16)\n",
    "#plt.ylabel('Price',size=16)\n",
    "#plt.xlabel('Time',size=16)\n",
    "#plt.savefig('4.png')\n",
    "#fig=plt.figure(figsize=(8,6), dpi= 800, facecolor='w', edgecolor='k')\n",
    "plt.show() \n",
    "#bb= np.column_stack((bbu,sma_bb,bbd))\n",
    "#print(bb)"
   ]
  },
  {
   "cell_type": "code",
   "execution_count": 72,
   "metadata": {
    "collapsed": false
   },
   "outputs": [
    {
     "name": "stdout",
     "output_type": "stream",
     "text": [
      "[ 902.45  913.1   952.2   971.05  947.6   948.9   961.    940.3   920.85\n",
      "  936.35  943.2   915.9   920.2   928.55  928.8   938.9   950.55  944.\n",
      "  943.2   927.1   954.95  950.5   953.7   982.15  857.05  859.9   853.6\n",
      "  817.2   828.2   849.2   855.1   829.9   833.55  835.    841.15  857.75\n",
      "  864.3   863.05  852.95  863.55  867.65  877.55  875.9   871.7   876.3\n",
      "  876.1   881.6   877.5   885.45  882.5   851.3   852.35  843.4   838.6\n",
      "  856.75  845.65  873.95  866.55  863.75  866.2   862.9   872.55  870.95\n",
      "  877.7   859.65  851.15  836.    842.3   858.05  844.25  845.7   840.6\n",
      "  840.85  845.2   847.05  860.45  846.15  855.45  849.25  863.8   860.3\n",
      "  867.7   854.5   840.5   855.1   845.85  845.95  842.8   841.4   825.05\n",
      "  828.35  814.55  810.05  826.4   828.85  838.05  842.35  838.25  841.9\n",
      "  835.25  839.25  838.7   836.    844.5   865.75  880.3   872.65  852.1\n",
      "  867.35  869.65  849.75  810.45  827.4   808.    798.25  827.1   824.3\n",
      "  824.8   843.95  851.55  845.95  828.95  811.05  808.75  824.65  813.25\n",
      "  832.15  854.85  859.3   835.4   815.25  815.65  817.85  823.05  827.9\n",
      "  811.85  814.9   815.3   824.15  822.55  828.45  817.7   810.65  806.8\n",
      "  820.6   814.1   820.4   839.85  843.25  838.75  828.45  833.1   839.3\n",
      "  839.65  837.55  853.3   841.2   846.25  845.15  845.1   849.8   837.55\n",
      "  799.9   750.3   742.2   728.4   737.1   732.9   722.6   721.4   718.8\n",
      "  708.75  714.7   723.15  718.95  732.3   742.25  730.1   736.65  733.55\n",
      "  739.25  749.35  740.9   757.6   747.55  739.8   734.55  721.35  721.9\n",
      "  724.6   726.7   743.5   753.05  751.05  753.65  752.4   755.2   751.7\n",
      "  753.65  770.65  770.1   770.45  769.8   741.85  735.05  713.2   728.45\n",
      "  730.45  731.7   748.35  738.4   717.1   721.85  716.8   721.35  720.\n",
      "  728.25  717.5   722.5   730.15  730.    723.55  729.2   740.4   745.25\n",
      "  753.5   750.8   752.95  780.45  800.75  826.15  823.85  821.75  819.1\n",
      "  816.85  818.15  824.55  814.2   792.35  784.55  785.8   781.85  784.05\n",
      "  772.25  791.    790.35  798.05  778.75  755.1   773.9   778.55  783.8\n",
      "  784.55  785.6   787.1   773.95  780.55  782.7   776.35  779.    786.35\n",
      "  789.05  792.05  792.6   788.85  797.25  788.95  795.85  796.3   791.05\n",
      "  799.9   808.6   818.15  816.    801.55  806.55  813.    803.3   812.7\n",
      "  808.4   834.8   830.55  815.55  831.75  810.65  804.55  790.85  774.3\n",
      "  763.15  767.75  772.9   764.3   763.1   794.75  817.2   809.    784.85\n",
      "  789.65  764.1   770.75  773.85  760.15  763.85  758.35  762.1   763.45\n",
      "  767.8   801.95  806.05  805.3   803.8   803.1   793.6   793.4   780.9\n",
      "  785.35  794.85  803.3   799.8   800.95  820.8   832.15  820.6   824.7\n",
      "  830.15  820.8   817.1   793.75  790.4   804.85  807.05  819.35  827.95\n",
      "  828.5   835.15  856.95  844.65  814.4   838.3   837.85  833.25  847.7\n",
      "  850.25  830.55  837.75  844.05  844.15  838.75  857.3   848.8   841.25\n",
      "  844.2   840.25  811.15  813.95  827.15  830.75  824.1   815.7   808.5\n",
      "  819.7   828.4   827.3   832.    830.3   845.    839.25  844.    851.3\n",
      "  834.2   842.85  839.95  840.1   849.1   843.75  852.9   855.55  857.35\n",
      "  847.7   844.35  846.35  853.6   842.9   855.4   865.75  864.35  859.3\n",
      "  872.75  876.65  873.05  852.15  859.9   877.6   875.85  874.75  866.25\n",
      "  850.5   853.5   849.3   833.05  833.8   831.65  809.1   810.8   808.05\n",
      "  808.6   814.9   812.75  819.55  819.95  800.25  809.7   814.1   822.05\n",
      "  835.1   818.    829.6   840.2   849.75  843.6   838.7   847.65  848.55\n",
      "  849.6   853.55  848.4   844.7   857.45  864.9   854.85  859.6   859.1\n",
      "  864.45  868.15  864.25  862.25  857.9   858.7   889.45  880.5   868.35\n",
      "  860.75  865.55  847.15  853.65  844.4   839.    842.5   854.25  843.45\n",
      "  849.15  851.85  840.2   848.4   847.6   850.9   838.15  841.55  837.5\n",
      "  840.65  831.9   849.65  850.65  854.    858.6   850.35  868.1   880.7\n",
      "  895.4   885.65  904.95  907.4   895.05  892.7   890.25  893.1   892.9\n",
      "  884.2   882.    875.75  890.65  886.    882.    878.75  882.9   872.3\n",
      "  860.1   864.5   871.4   876.25  874.05  875.85  880.    867.5 ]\n"
     ]
    }
   ],
   "source": [
    "#print(y)"
   ]
  },
  {
   "cell_type": "code",
   "execution_count": 71,
   "metadata": {
    "collapsed": false
   },
   "outputs": [
    {
     "name": "stdout",
     "output_type": "stream",
     "text": [
      "[  1.06500000e+01   3.91000000e+01   1.88500000e+01  -2.34500000e+01\n",
      "   1.30000000e+00   1.21000000e+01  -2.07000000e+01  -1.94500000e+01\n",
      "   1.55000000e+01   6.85000000e+00  -2.73000000e+01   4.30000000e+00\n",
      "   8.35000000e+00   2.50000000e-01   1.01000000e+01   1.16500000e+01\n",
      "  -6.55000000e+00  -8.00000000e-01  -1.61000000e+01   2.78500000e+01\n",
      "  -4.45000000e+00   3.20000000e+00   2.84500000e+01  -1.25100000e+02\n",
      "   2.85000000e+00  -6.30000000e+00  -3.64000000e+01   1.10000000e+01\n",
      "   2.10000000e+01   5.90000000e+00  -2.52000000e+01   3.65000000e+00\n",
      "   1.45000000e+00   6.15000000e+00   1.66000000e+01   6.55000000e+00\n",
      "  -1.25000000e+00  -1.01000000e+01   1.06000000e+01   4.10000000e+00\n",
      "   9.90000000e+00  -1.65000000e+00  -4.20000000e+00   4.60000000e+00\n",
      "  -2.00000000e-01   5.50000000e+00  -4.10000000e+00   7.95000000e+00\n",
      "  -2.95000000e+00  -3.12000000e+01   1.05000000e+00  -8.95000000e+00\n",
      "  -4.80000000e+00   1.81500000e+01  -1.11000000e+01   2.83000000e+01\n",
      "  -7.40000000e+00  -2.80000000e+00   2.45000000e+00  -3.30000000e+00\n",
      "   9.65000000e+00  -1.60000000e+00   6.75000000e+00  -1.80500000e+01\n",
      "  -8.50000000e+00  -1.51500000e+01   6.30000000e+00   1.57500000e+01\n",
      "  -1.38000000e+01   1.45000000e+00  -5.10000000e+00   2.50000000e-01\n",
      "   4.35000000e+00   1.85000000e+00   1.34000000e+01  -1.43000000e+01\n",
      "   9.30000000e+00  -6.20000000e+00   1.45500000e+01  -3.50000000e+00\n",
      "   7.40000000e+00  -1.32000000e+01  -1.40000000e+01   1.46000000e+01\n",
      "  -9.25000000e+00   1.00000000e-01  -3.15000000e+00  -1.40000000e+00\n",
      "  -1.63500000e+01   3.30000000e+00  -1.38000000e+01  -4.50000000e+00\n",
      "   1.63500000e+01   2.45000000e+00   9.20000000e+00   4.30000000e+00\n",
      "  -4.10000000e+00   3.65000000e+00  -6.65000000e+00   4.00000000e+00\n",
      "  -5.50000000e-01  -2.70000000e+00   8.50000000e+00   2.12500000e+01\n",
      "   1.45500000e+01  -7.65000000e+00  -2.05500000e+01   1.52500000e+01\n",
      "   2.30000000e+00  -1.99000000e+01  -3.93000000e+01   1.69500000e+01\n",
      "  -1.94000000e+01  -9.75000000e+00   2.88500000e+01  -2.80000000e+00\n",
      "   5.00000000e-01   1.91500000e+01   7.60000000e+00  -5.60000000e+00\n",
      "  -1.70000000e+01  -1.79000000e+01  -2.30000000e+00   1.59000000e+01\n",
      "  -1.14000000e+01   1.89000000e+01   2.27000000e+01   4.45000000e+00\n",
      "  -2.39000000e+01  -2.01500000e+01   4.00000000e-01   2.20000000e+00\n",
      "   5.20000000e+00   4.85000000e+00  -1.60500000e+01   3.05000000e+00\n",
      "   4.00000000e-01   8.85000000e+00  -1.60000000e+00   5.90000000e+00\n",
      "  -1.07500000e+01  -7.05000000e+00  -3.85000000e+00   1.38000000e+01\n",
      "  -6.50000000e+00   6.30000000e+00   1.94500000e+01   3.40000000e+00\n",
      "  -4.50000000e+00  -1.03000000e+01   4.65000000e+00   6.20000000e+00\n",
      "   3.50000000e-01  -2.10000000e+00   1.57500000e+01  -1.21000000e+01\n",
      "   5.05000000e+00  -1.10000000e+00  -5.00000000e-02   4.70000000e+00\n",
      "  -1.22500000e+01  -3.76500000e+01  -4.96000000e+01  -8.10000000e+00\n",
      "  -1.38000000e+01   8.70000000e+00  -4.20000000e+00  -1.03000000e+01\n",
      "  -1.20000000e+00  -2.60000000e+00  -1.00500000e+01   5.95000000e+00\n",
      "   8.45000000e+00  -4.20000000e+00   1.33500000e+01   9.95000000e+00\n",
      "  -1.21500000e+01   6.55000000e+00  -3.10000000e+00   5.70000000e+00\n",
      "   1.01000000e+01  -8.45000000e+00   1.67000000e+01  -1.00500000e+01\n",
      "  -7.75000000e+00  -5.25000000e+00  -1.32000000e+01   5.50000000e-01\n",
      "   2.70000000e+00   2.10000000e+00   1.68000000e+01   9.55000000e+00\n",
      "  -2.00000000e+00   2.60000000e+00  -1.25000000e+00   2.80000000e+00\n",
      "  -3.50000000e+00   1.95000000e+00   1.70000000e+01  -5.50000000e-01\n",
      "   3.50000000e-01  -6.50000000e-01  -2.79500000e+01  -6.80000000e+00\n",
      "  -2.18500000e+01   1.52500000e+01   2.00000000e+00   1.25000000e+00\n",
      "   1.66500000e+01  -9.95000000e+00  -2.13000000e+01   4.75000000e+00\n",
      "  -5.05000000e+00   4.55000000e+00  -1.35000000e+00   8.25000000e+00\n",
      "  -1.07500000e+01   5.00000000e+00   7.65000000e+00  -1.50000000e-01\n",
      "  -6.45000000e+00   5.65000000e+00   1.12000000e+01   4.85000000e+00\n",
      "   8.25000000e+00  -2.70000000e+00   2.15000000e+00   2.75000000e+01\n",
      "   2.03000000e+01   2.54000000e+01  -2.30000000e+00  -2.10000000e+00\n",
      "  -2.65000000e+00  -2.25000000e+00   1.30000000e+00   6.40000000e+00\n",
      "  -1.03500000e+01  -2.18500000e+01  -7.80000000e+00   1.25000000e+00\n",
      "  -3.95000000e+00   2.20000000e+00  -1.18000000e+01   1.87500000e+01\n",
      "  -6.50000000e-01   7.70000000e+00  -1.93000000e+01  -2.36500000e+01\n",
      "   1.88000000e+01   4.65000000e+00   5.25000000e+00   7.50000000e-01\n",
      "   1.05000000e+00   1.50000000e+00  -1.31500000e+01   6.60000000e+00\n",
      "   2.15000000e+00  -6.35000000e+00   2.65000000e+00   7.35000000e+00\n",
      "   2.70000000e+00   3.00000000e+00   5.50000000e-01  -3.75000000e+00\n",
      "   8.40000000e+00  -8.30000000e+00   6.90000000e+00   4.50000000e-01\n",
      "  -5.25000000e+00   8.85000000e+00   8.70000000e+00   9.55000000e+00\n",
      "  -2.15000000e+00  -1.44500000e+01   5.00000000e+00   6.45000000e+00\n",
      "  -9.70000000e+00   9.40000000e+00  -4.30000000e+00   2.64000000e+01\n",
      "  -4.25000000e+00  -1.50000000e+01   1.62000000e+01  -2.11000000e+01\n",
      "  -6.10000000e+00  -1.37000000e+01  -1.65500000e+01  -1.11500000e+01\n",
      "   4.60000000e+00   5.15000000e+00  -8.60000000e+00  -1.20000000e+00\n",
      "   3.16500000e+01   2.24500000e+01  -8.20000000e+00  -2.41500000e+01\n",
      "   4.80000000e+00  -2.55500000e+01   6.65000000e+00   3.10000000e+00\n",
      "  -1.37000000e+01   3.70000000e+00  -5.50000000e+00   3.75000000e+00\n",
      "   1.35000000e+00   4.35000000e+00   3.41500000e+01   4.10000000e+00\n",
      "  -7.50000000e-01  -1.50000000e+00  -7.00000000e-01  -9.50000000e+00\n",
      "  -2.00000000e-01  -1.25000000e+01   4.45000000e+00   9.50000000e+00\n",
      "   8.45000000e+00  -3.50000000e+00   1.15000000e+00   1.98500000e+01\n",
      "   1.13500000e+01  -1.15500000e+01   4.10000000e+00   5.45000000e+00\n",
      "  -9.35000000e+00  -3.70000000e+00  -2.33500000e+01  -3.35000000e+00\n",
      "   1.44500000e+01   2.20000000e+00   1.23000000e+01   8.60000000e+00\n",
      "   5.50000000e-01   6.65000000e+00   2.18000000e+01  -1.23000000e+01\n",
      "  -3.02500000e+01   2.39000000e+01  -4.50000000e-01  -4.60000000e+00\n",
      "   1.44500000e+01   2.55000000e+00  -1.97000000e+01   7.20000000e+00\n",
      "   6.30000000e+00   1.00000000e-01  -5.40000000e+00   1.85500000e+01\n",
      "  -8.50000000e+00  -7.55000000e+00   2.95000000e+00  -3.95000000e+00\n",
      "  -2.91000000e+01   2.80000000e+00   1.32000000e+01   3.60000000e+00\n",
      "  -6.65000000e+00  -8.40000000e+00  -7.20000000e+00   1.12000000e+01\n",
      "   8.70000000e+00  -1.10000000e+00   4.70000000e+00  -1.70000000e+00\n",
      "   1.47000000e+01  -5.75000000e+00   4.75000000e+00   7.30000000e+00\n",
      "  -1.71000000e+01   8.65000000e+00  -2.90000000e+00   1.50000000e-01\n",
      "   9.00000000e+00  -5.35000000e+00   9.15000000e+00   2.65000000e+00\n",
      "   1.80000000e+00  -9.65000000e+00  -3.35000000e+00   2.00000000e+00\n",
      "   7.25000000e+00  -1.07000000e+01   1.25000000e+01   1.03500000e+01\n",
      "  -1.40000000e+00  -5.05000000e+00   1.34500000e+01   3.90000000e+00\n",
      "  -3.60000000e+00  -2.09000000e+01   7.75000000e+00   1.77000000e+01\n",
      "  -1.75000000e+00  -1.10000000e+00  -8.50000000e+00  -1.57500000e+01\n",
      "   3.00000000e+00  -4.20000000e+00  -1.62500000e+01   7.50000000e-01\n",
      "  -2.15000000e+00  -2.25500000e+01   1.70000000e+00  -2.75000000e+00\n",
      "   5.50000000e-01   6.30000000e+00  -2.15000000e+00   6.80000000e+00\n",
      "   4.00000000e-01  -1.97000000e+01   9.45000000e+00   4.40000000e+00\n",
      "   7.95000000e+00   1.30500000e+01  -1.71000000e+01   1.16000000e+01\n",
      "   1.06000000e+01   9.55000000e+00  -6.15000000e+00  -4.90000000e+00\n",
      "   8.95000000e+00   9.00000000e-01   1.05000000e+00   3.95000000e+00\n",
      "  -5.15000000e+00  -3.70000000e+00   1.27500000e+01   7.45000000e+00\n",
      "  -1.00500000e+01   4.75000000e+00  -5.00000000e-01   5.35000000e+00\n",
      "   3.70000000e+00  -3.90000000e+00  -2.00000000e+00  -4.35000000e+00\n",
      "   8.00000000e-01   3.07500000e+01  -8.95000000e+00  -1.21500000e+01\n",
      "  -7.60000000e+00   4.80000000e+00  -1.84000000e+01   6.50000000e+00\n",
      "  -9.25000000e+00  -5.40000000e+00   3.50000000e+00   1.17500000e+01\n",
      "  -1.08000000e+01   5.70000000e+00   2.70000000e+00  -1.16500000e+01\n",
      "   8.20000000e+00  -8.00000000e-01   3.30000000e+00  -1.27500000e+01\n",
      "   3.40000000e+00  -4.05000000e+00   3.15000000e+00  -8.75000000e+00\n",
      "   1.77500000e+01   1.00000000e+00   3.35000000e+00   4.60000000e+00\n",
      "  -8.25000000e+00   1.77500000e+01   1.26000000e+01   1.47000000e+01\n",
      "  -9.75000000e+00   1.93000000e+01   2.45000000e+00  -1.23500000e+01\n",
      "  -2.35000000e+00  -2.45000000e+00   2.85000000e+00  -2.00000000e-01\n",
      "  -8.70000000e+00  -2.20000000e+00  -6.25000000e+00   1.49000000e+01\n",
      "  -4.65000000e+00  -4.00000000e+00  -3.25000000e+00   4.15000000e+00\n",
      "  -1.06000000e+01  -1.22000000e+01   4.40000000e+00   6.90000000e+00\n",
      "   4.85000000e+00  -2.20000000e+00   1.80000000e+00   4.15000000e+00\n",
      "  -1.25000000e+01]\n",
      "493\n"
     ]
    }
   ],
   "source": [
    "diff=np.empty(len(y)-1,float)\n",
    "for i in range(0,len(y)-1):\n",
    "    diff[i]=y[i+1]-y[i]\n",
    "#print(diff)\n",
    "print(len(diff))\n"
   ]
  },
  {
   "cell_type": "code",
   "execution_count": 73,
   "metadata": {
    "collapsed": true
   },
   "outputs": [],
   "source": [
    "#RSI N=14\n",
    "pos=np.zeros(len(y)-1,float)\n",
    "neg=np.zeros(len(y)-1,float)\n",
    "for i in range(0,len(y)-1):\n",
    "    if diff[i]>0 :\n",
    "        pos[i]=diff[i]\n",
    "    else:\n",
    "        neg[i]=diff[i]\n",
    "#print(pos)\n",
    "#print(neg)\n",
    "\n"
   ]
  },
  {
   "cell_type": "code",
   "execution_count": 74,
   "metadata": {
    "collapsed": true
   },
   "outputs": [],
   "source": [
    "nrsi=14\n",
    "rp=np.empty(len(y)-nrsi+1,float)\n",
    "rn=np.empty(len(y)-nrsi+1,float)\n",
    "rp[0]=stat.mean(pos[0:nrsi-1])\n",
    "rn[0]=stat.mean(neg[0:nrsi-1])\n"
   ]
  },
  {
   "cell_type": "code",
   "execution_count": 75,
   "metadata": {
    "collapsed": true
   },
   "outputs": [],
   "source": [
    "for i in range(1,len(y)-nrsi+1):\n",
    "    rp[i]=((rp[i-1]*(nrsi-1))+pos[i])/nrsi\n",
    "    rn[i]=((rn[i-1]*(nrsi-1))+neg[i])/nrsi\n",
    "    #print(i)\n",
    "#print(rp)\n",
    "#print(rn)"
   ]
  },
  {
   "cell_type": "code",
   "execution_count": 76,
   "metadata": {
    "collapsed": false
   },
   "outputs": [
    {
     "name": "stdout",
     "output_type": "stream",
     "text": [
      "[ 56.27705628  63.19838057  65.99326599  59.89885453  60.1187348\n",
      "  62.19646251  56.74953415  52.12990752  55.25582734  56.60448574\n",
      "  50.12055839  51.07125481  52.9467361   53.00481792  55.40006716\n",
      "  58.05565128  56.03547631  55.78017226  50.76716724  57.82759013\n",
      "  56.43493553  57.23255596  63.61137811  37.28038255  37.910933\n",
      "  37.02481868  32.32378834  35.00930161  39.91153168  41.25229099\n",
      "  37.4124836   38.30819043  38.68360798  40.34185272  44.68989886\n",
      "  46.3514001   46.06699362  43.73206986  46.78080907  47.95542921\n",
      "  50.78033427  50.2903898   48.99455642  50.49898472  50.42933889\n",
      "  52.37455933  50.77500163  53.72609937  52.46908302  41.42889985\n",
      "  41.87217792  39.15218785  37.7363782   45.72815738  42.16381036\n",
      "  52.35957971  49.88326863  48.94010949  49.83389477  48.59987807\n",
      "  52.31819934  51.65102542  54.29880774  46.90199766  43.87117946\n",
      "  39.03005646  41.90114749  48.43822613  43.78915751  44.39307858\n",
      "  42.65712341  42.7752538   44.90217096  45.82439748  52.08087325\n",
      "  45.97852518  50.07550647  47.48973175  53.55142205  51.99648355\n",
      "  54.97335548  49.12159607  43.7966644   49.89651262  46.456375\n",
      "  46.49931953  45.2676801   44.70097625  38.62022635  40.38297858\n",
      "  35.75819505  34.37570263  42.9987621   44.18235202  48.50627277\n",
      "  50.4387473   48.56719256  50.33400746  47.15568234  49.23225767\n",
      "  48.94744011  47.49482986  52.29466093  61.71692703  66.58364517\n",
      "  62.11276153  52.00985146  57.53044823  58.30940737  49.7987122\n",
      "  38.00208218  44.14740929  39.34090871  37.15168635  46.61772832\n",
      "  45.89522606  46.05600452  51.94588306  54.08835706  52.24015876\n",
      "  46.9908333   42.18423348  41.59548406  47.09278144  43.90212013\n",
      "  49.95582861  56.08543239  57.19235951  49.9151428   44.74573522\n",
      "  44.86779805  45.57987111  47.31206205  48.94437299  44.07773603\n",
      "  45.19298496  45.34692321  48.77507221  48.18659091  50.55560961\n",
      "  46.39340254  43.84404758  42.47149826  48.67388386  46.15001657\n",
      "  48.91489886  56.36393955  57.52976818  55.41934827  50.8236501\n",
      "  52.72946625  55.22130298  55.36434775  54.24466872  60.66920807\n",
      "  54.35486458  56.39467631  55.80962937  55.78130219  57.9422898\n",
      "  50.95291574  36.41417768  25.92093507  24.67065334  22.66484801\n",
      "  26.71037833  26.00318242  24.30374375  24.10607672  23.65712483\n",
      "  21.95502656  25.37816287  30.06923351  29.09034731  36.19998233\n",
      "  40.95195536  37.29866388  40.38616043  39.39737502  42.19957029\n",
      "  46.88605019  43.69408354  50.82009947  46.96774091  44.18612336\n",
      "  42.35610258  38.08514689  38.36402651  39.79760493  40.948039    49.2957433\n",
      "  53.33415542  52.39302248  53.54076802  52.88069271  54.24155096\n",
      "  52.21164433  53.2611227   61.25055438  60.88792148  61.04597333\n",
      "  60.55655543  44.16131031  41.23616904  33.54690801  41.71575157\n",
      "  42.71039192  43.36096401  51.29480936  47.05302171  39.51906137\n",
      "  41.75863848  40.06022536  42.33588516  41.82846096  46.08155288\n",
      "  41.79366097  44.38574496  48.18754337  48.11808481  45.10722676\n",
      "  48.16681684  53.67850794  55.86701855  59.38243585  57.76084366\n",
      "  58.72735144  68.61843091  73.64034327  78.3161206   76.98445279\n",
      "  75.71848461  74.06334606  72.61202888  72.94194317  74.56626724\n",
      "  67.5083196   55.55349541  52.01252972  52.53466968  50.6588705\n",
      "  51.69343311  46.10901937  54.51705815  54.20135022  57.35209236\n",
      "  48.36982513  40.08509855  47.7468418   49.46806987  51.4140035\n",
      "  51.70015401  52.12526518  52.76486534  46.85500339  49.8886927\n",
      "  50.87250566  47.88248988  49.22373434  52.84823656  54.14318538\n",
      "  55.6021956   55.87935044  53.4302778   57.88313766  52.53762563\n",
      "  56.16208179  56.39594846  52.85334632  57.67942787  61.81724858\n",
      "  65.77323501  64.16154267  54.4962761   56.91481903  59.8774006\n",
      "  53.87746919  58.24405926  55.6486308   65.74206152  63.24666762\n",
      "  55.27239488  60.99256873  51.71557859  49.37733434  44.50989576\n",
      "  39.45061552  36.44501124  38.52584892  40.86038781  38.24825022\n",
      "  37.88431799  51.10012876  57.93649507  54.91652362  47.12549946\n",
      "  48.68381242  41.64768602  43.91951803  44.99461605  41.23260033\n",
      "  42.62777188  41.06703347  42.60989782  43.18654192  45.10070014\n",
      "  57.27174577  58.46238576  58.14321256  57.46746172  57.13374977\n",
      "  52.66408895  52.57084559  46.97305316  49.05287526  53.26694765\n",
      "  56.6978588   54.90000759  55.40042486  63.02639314  66.54848074\n",
      "  60.25786863  61.64390832  63.46779449  58.3421812   56.40105205\n",
      "  45.99956682  44.72517548  51.02760678  51.92633321  56.70970209\n",
      "  59.72700283  59.9194055   62.26668981  68.73152888  62.25097303\n",
      "  49.81175573  57.10485688  56.93709055  55.15334218  59.45083297\n",
      "  60.17607989  52.38150147  54.69143761  56.67198748  56.70433895\n",
      "  54.34462021  60.43555396  56.70258427  53.53923719  54.604883    52.8567021\n",
      "  42.15044576  43.3396771   48.69434062  50.07995184  47.52656637\n",
      "  44.44402982  41.93347045  46.9532649   50.53077665  50.07097915\n",
      "  52.07748351  51.27483196  57.39041001  54.50847998  56.453859\n",
      "  59.33217616  50.85283556  54.40272913  53.02004328  53.08646024\n",
      "  57.01324389  54.11362225  58.04381266  59.13546865  59.89870578\n",
      "  54.06834372  52.16988929  53.22581464  56.93712714  50.56086398\n",
      "  56.66618527  60.96462665  60.09625849  56.94537425  62.57368055\n",
      "  64.04154494  61.63838517  49.92532849  53.45725067  60.33783985\n",
      "  59.40280031  58.78612807  54.11149096  46.7010212   48.15738058\n",
      "  46.25195293  39.70597899  40.12715794  39.28007374  31.71735555\n",
      "  32.76826906  31.91263558  32.29342057  36.66294064  35.81350155\n",
      "  40.5082951   40.78267818  32.76717424  38.96428673  41.66063071\n",
      "  46.27846967  52.8728807   45.066469    50.41478703  54.75018596\n",
      "  58.28863899  55.29016066  52.95287295  56.56463735  56.92276536\n",
      "  57.36443578  59.06479225  55.93274084  53.72837786  59.63234193\n",
      "  62.63256176  56.52897521  58.58331599  58.27114879  60.68515481\n",
      "  62.30909887  59.51839795  58.08174603  54.97362008  55.44582743\n",
      "  68.932652    62.95897705  55.87941522  51.94471137  54.14103713\n",
      "  45.54734317  48.6482504   44.74333929  42.59388652  44.45637129\n",
      "  50.28752484  45.55367755  48.31884828  49.62396975  44.41238622\n",
      "  48.51124714  48.138309    49.8509476   43.82870044  45.71209644\n",
      "  43.82701609  45.70252267  41.5523265   51.22786616  51.71284845\n",
      "  53.38512515  55.65607921  50.86953178  59.03297344  63.65020097\n",
      "  68.15903752  62.61163725  68.13948662  68.77069895  62.09266584\n",
      "  60.88119248  59.57613749  60.63329141  60.51369341  55.39502005\n",
      "  54.14771691  50.65799131  57.66318636  55.03709243]\n"
     ]
    }
   ],
   "source": [
    "rsi=np.empty(len(y)-nrsi+1,float)\n",
    "for i in range(0,len(y)-nrsi+1):\n",
    "    rs=rp[i]/rn[i]\n",
    "    rsi[i]=100-(100/(1-rs))\n",
    "#print(rsi)"
   ]
  },
  {
   "cell_type": "code",
   "execution_count": 77,
   "metadata": {
    "collapsed": false
   },
   "outputs": [
    {
     "data": {
      "image/png": "[encoded data removed]",
      "text/plain": [
       "<matplotlib.figure.Figure at 0x3862ed3ef0>"
      ]
     },
     "metadata": {},
     "output_type": "display_data"
    }
   ],
   "source": [
    "#da=[]\n",
    "#for i in range(13,494):\n",
    "#    da.append(dates[i])\n",
    "    \n",
    "#x = [dt.datetime.strptime(d,'%d-%b-%Y').date() for d in da ]\n",
    "#fig=plt.figure(figsize=(8, 6), dpi= 800, facecolor='w', edgecolor='k')\n",
    "plt.plot(rsi)\n",
    "#plt.gcf().autofmt_xdate()\n",
    "#plt.title('Relative Strength Index',size=16)\n",
    "#plt.ylabel('RSI value',size=16)\n",
    "#plt.xlabel('Time',size=16)\n",
    "#plt.savefig('5.png')\n",
    "plt.show() \n"
   ]
  },
  {
   "cell_type": "code",
   "execution_count": 85,
   "metadata": {
    "collapsed": true
   },
   "outputs": [],
   "source": [
    "ns_macd=26\n",
    "nf_macd=12\n",
    "ema_f=np.empty(len(y)+1-nf_macd,float)\n",
    "ema_s=np.empty(len(y)+1-ns_macd,float)\n",
    "ema_s[0]=stat.mean(y[0:ns_macd-1])\n",
    "ema_f[0]=stat.mean(y[0:nf_macd-1])\n",
    "#print(len(y)-11)"
   ]
  },
  {
   "cell_type": "code",
   "execution_count": 86,
   "metadata": {
    "collapsed": false
   },
   "outputs": [
    {
     "name": "stdout",
     "output_type": "stream",
     "text": [
      "483\n"
     ]
    }
   ],
   "source": [
    "for i in range(1,len(y)+1-nf_macd):\n",
    "    a=-(ema_f[i-1]-y[nf_macd-1+i])\n",
    "    ema_f[i]=a*(2/(nf_macd+1)) + ema_f[i-1]\n",
    "    #print(y[i+49])\n",
    "    #print(i)\n",
    "#print(ema)\n",
    "print(len(ema_f))\n",
    "\n",
    "\n",
    "\n",
    "for i in range(1,len(y)+1-ns_macd):\n",
    "    e=y[25+i]-ema_s[i-1]\n",
    "    ema_s[i]=e*(2/(ns_macd+1)) + ema_s[i-1]\n",
    "    #print(ema26[i])\n",
    "    #print(y[11+i])\n",
    "    #print(i)\n",
    "#print(ema26)\n",
    "\n"
   ]
  },
  {
   "cell_type": "code",
   "execution_count": null,
   "metadata": {
    "collapsed": true
   },
   "outputs": [],
   "source": []
  },
  {
   "cell_type": "code",
   "execution_count": 105,
   "metadata": {
    "collapsed": false
   },
   "outputs": [
    {
     "name": "stdout",
     "output_type": "stream",
     "text": [
      "[ -1.36477175e+01  -1.82251513e+01  -2.45074694e+01  -2.82727333e+01\n",
      "  -2.92253163e+01  -2.91679347e+01  -3.08008360e+01  -3.14379997e+01\n",
      "  -3.14632648e+01  -3.06339054e+01  -2.83108015e+01  -2.56455685e+01\n",
      "  -2.33648809e+01  -2.21174490e+01  -2.00424815e+01  -1.78613249e+01\n",
      "  -1.51591500e+01  -1.30009315e+01  -1.14969036e+01  -9.82056371e+00\n",
      "  -8.41123117e+00  -6.77245233e+00  -5.73839538e+00  -4.22865394e+00\n",
      "  -3.23294594e+00  -4.90487902e+00  -6.07514137e+00  -7.63674131e+00\n",
      "  -9.15609464e+00  -8.79426498e+00  -9.29603074e+00  -7.32566453e+00\n",
      "  -6.28876036e+00  -5.62806608e+00  -4.85084902e+00  -4.44988581e+00\n",
      "  -3.31522932e+00  -2.51610837e+00  -1.32288133e+00  -1.81282730e+00\n",
      "  -2.85409179e+00  -4.84591904e+00  -5.84867921e+00  -5.31125564e+00\n",
      "  -5.93052486e+00  -6.23245346e+00  -6.80481970e+00  -7.15576396e+00\n",
      "  -7.00216458e+00  -6.65444809e+00  -5.23724060e+00  -5.20794995e+00\n",
      "  -4.38377123e+00  -4.18267655e+00  -2.81677414e+00  -1.99372498e+00\n",
      "  -7.35851984e-01  -7.94944630e-01  -1.94899221e+00  -1.66627743e+00\n",
      "  -2.16368008e+00  -2.52074847e+00  -3.02305848e+00  -3.49383632e+00\n",
      "  -5.12713706e+00  -6.08511186e+00  -7.86717061e+00  -9.53269048e+00\n",
      "  -9.42467681e+00  -9.03720540e+00  -7.89673970e+00  -6.57020117e+00\n",
      "  -5.78308179e+00  -4.80932066e+00  -4.52207965e+00  -3.92641129e+00\n",
      "  -3.45884877e+00  -3.26849239e+00  -2.40404233e+00  -4.21344539e-03\n",
      "   3.03672615e+00   4.77436570e+00   4.44203924e+00   5.34757220e+00\n",
      "   6.17957013e+00   5.17353352e+00   1.19132782e+00  -5.90073543e-01\n",
      "  -3.52661224e+00  -6.56490765e+00  -6.56910027e+00  -6.72088537e+00\n",
      "  -6.72332799e+00  -5.12098728e+00  -3.20096549e+00  -2.10692033e+00\n",
      "  -2.58187731e+00  -4.35249172e+00  -5.87359997e+00  -5.73003977e+00\n",
      "  -6.46166595e+00  -5.45354781e+00  -2.79073675e+00  -3.17699755e-01\n",
      "  -2.83067352e-01  -1.86011527e+00  -3.04258740e+00  -3.75885374e+00\n",
      "  -3.86238032e+00  -3.51258057e+00  -4.47883340e+00  -4.94152342e+00\n",
      "  -5.21580736e+00  -4.66527988e+00  -4.30842467e+00  -3.50908313e+00\n",
      "  -3.70037870e+00  -4.37047774e+00  -5.15280061e+00  -4.60615556e+00\n",
      "  -4.64389912e+00  -4.11798425e+00  -2.10744714e+00  -2.36998444e-01\n",
      "   8.72179295e-01   9.09601406e-01   1.29949507e+00   2.08474514e+00\n",
      "   2.70413201e+00   2.99106893e+00   4.43820106e+00   4.55617409e+00\n",
      "   4.99952989e+00   5.20216443e+00   5.29765116e+00   5.68701939e+00\n",
      "   4.95006265e+00   1.31284511e+00  -5.50848310e+00  -1.14362077e+01\n",
      "  -1.70509639e+01  -2.05616593e+01  -2.34129260e+01  -2.62016629e+01\n",
      "  -2.81837027e+01  -2.96228085e+01  -3.12144406e+01  -3.16310819e+01\n",
      "  -3.09229679e+01  -3.03508220e+01  -2.84917240e+01  -2.59167415e+01\n",
      "  -2.45731884e+01  -2.27180036e+01  -2.12529100e+01  -1.94081455e+01\n",
      "  -1.69359436e+01  -1.54801053e+01  -1.28308859e+01  -1.14107752e+01\n",
      "  -1.07863492e+01  -1.05930086e+01  -1.13738043e+01  -1.18120482e+01\n",
      "  -1.18054068e+01  -1.14981475e+01  -9.78621333e+00  -7.57160721e+00\n",
      "  -5.90977498e+00  -4.33301440e+00  -3.14799669e+00  -1.96032758e+00\n",
      "  -1.28667996e+00  -5.88674786e-01   1.32102927e+00   2.75830703e+00\n",
      "   3.88086589e+00   4.66428532e+00   2.99529160e+00   1.11109092e+00\n",
      "  -2.12081664e+00  -3.41224487e+00  -4.22561748e+00  -4.71500494e+00\n",
      "  -3.71649078e+00  -3.68555814e+00  -5.31846781e+00  -6.15828629e+00\n",
      "  -7.14893283e+00  -7.48064812e+00  -7.76298178e+00  -7.23759667e+00\n",
      "  -7.60104029e+00  -7.40030762e+00  -6.54844804e+00  -5.81837630e+00\n",
      "  -5.69460641e+00  -5.08202765e+00  -3.65072489e+00  -2.10083554e+00\n",
      "  -2.04473972e-01   1.06822497e+00   2.22469024e+00   5.29913237e+00\n",
      "   9.26686757e+00   1.42960975e+01   1.78899831e+01   2.03343096e+01\n",
      "   2.18062542e+01   2.25314957e+01   2.29466393e+01   2.35209354e+01\n",
      "   2.28771967e+01   2.03691142e+01   1.75497434e+01   1.52405527e+01\n",
      "   1.29425765e+01   1.11701726e+01   8.71293117e+00   8.18417580e+00\n",
      "   7.62478997e+00   7.71387754e+00   6.15616691e+00   2.97897293e+00\n",
      "   1.95548507e+00   1.50226256e+00   1.54885731e+00   1.62754144e+00\n",
      "   1.75440175e+00   1.95345867e+00   1.03815046e+00   8.35693594e-01\n",
      "   8.39059940e-01   3.25582748e-01   1.30971469e-01   5.63330479e-01\n",
      "   1.11103819e+00   1.76680875e+00   2.30432918e+00   2.40005795e+00\n",
      "   3.11779351e+00   2.98248327e+00   3.39290991e+00   3.71170104e+00\n",
      "   3.50036416e+00   4.00087955e+00   5.04144426e+00   6.56107252e+00\n",
      "   7.50538444e+00   7.00699195e+00   6.93552215e+00   7.31501991e+00\n",
      "   6.75519600e+00   6.98946278e+00   6.75033319e+00   8.59203697e+00\n",
      "   9.59802100e+00   9.08022477e+00   9.86337331e+00   8.68135723e+00\n",
      "   7.16973372e+00   4.81082945e+00   1.58763289e+00  -1.84521493e+00\n",
      "  -4.14678841e+00  -5.49193244e+00  -7.16927397e+00  -8.49745581e+00\n",
      "  -6.91643069e+00  -3.80803288e+00  -1.98341314e+00  -2.45776048e+00\n",
      "  -2.41848549e+00  -4.39833004e+00  -5.36888255e+00  -5.82080964e+00\n",
      "  -7.20142705e+00  -7.90588312e+00  -8.80645829e+00  -9.11253334e+00\n",
      "  -9.14079688e+00  -8.71176351e+00  -5.55213037e+00  -2.68629665e+00\n",
      "  -4.70201332e-01   1.15175599e+00   2.35355439e+00   2.51047844e+00\n",
      "   2.58886078e+00   1.62361776e+00   1.20385622e+00   1.61909882e+00\n",
      "   2.60005414e+00   3.05977635e+00   3.47682622e+00   5.34742852e+00\n",
      "   7.65747388e+00   8.45870629e+00   9.31712250e+00   1.03182506e+01\n",
      "   1.02391544e+01   9.76534221e+00   7.42015782e+00   5.23096598e+00\n",
      "   4.60888158e+00   4.24446924e+00   4.89178755e+00   6.02923879e+00\n",
      "   6.89556966e+00   8.02622126e+00   1.05596238e+01   1.14429492e+01\n",
      "   9.59150389e+00   9.93818913e+00   1.00606555e+01   9.67500195e+00\n",
      "   1.04153019e+01   1.10800349e+01   9.90305888e+00   9.44243030e+00\n",
      "   9.47649703e+00   9.40317042e+00   8.80779293e+00   9.72072745e+00\n",
      "   9.64714935e+00   8.87728446e+00   8.40827596e+00   7.62989864e+00\n",
      "   4.61174092e+00   2.41789381e+00   1.72450483e+00   1.44877837e+00\n",
      "   6.85758741e-01  -5.89949046e-01  -2.15707111e+00  -2.46684400e+00\n",
      "  -1.98741428e+00  -1.67689340e+00  -1.03956913e+00  -6.64006601e-01\n",
      "   8.10454149e-01   1.49773304e+00   2.39804860e+00   3.65843203e+00\n",
      "   3.24011783e+00   3.56548285e+00   3.54842716e+00   3.50659233e+00\n",
      "   4.15180330e+00   4.18321585e+00   4.89006938e+00   5.59954073e+00\n",
      "   6.23517166e+00   5.89231644e+00   5.28931231e+00   4.91614028e+00\n",
      "   5.14609221e+00   4.41404780e+00   4.78735719e+00   5.85092031e+00\n",
      "   6.50583819e+00   6.54196088e+00   7.56864435e+00   8.59788473e+00\n",
      "   9.01910857e+00   7.57910892e+00   6.98276607e+00   7.84793601e+00\n",
      "   8.29673941e+00   8.46606698e+00   7.82418895e+00   5.97571826e+00\n",
      "   4.69870312e+00   3.30960348e+00   8.87264968e-01  -9.60860814e-01\n",
      "  -2.56938260e+00  -5.59920015e+00  -7.77356775e+00  -9.60791766e+00\n",
      "  -1.08917198e+01  -1.12708614e+01  -1.16109768e+01  -1.12026800e+01\n",
      "  -1.07232147e+01  -1.17968733e+01  -1.17497753e+01  -1.12279775e+01\n",
      "  -1.00570194e+01  -7.98396646e+00  -7.63289691e+00  -6.34550171e+00\n",
      "  -4.41896129e+00  -2.09738163e+00  -7.45176692e-01  -6.81480186e-02\n",
      "   1.17702428e+00   2.21096811e+00   3.07960253e+00   4.04016110e+00\n",
      "   4.33586754e+00   4.22297808e+00   5.10350084e+00   6.32951153e+00\n",
      "   6.41622064e+00   6.78995317e+00   6.96549914e+00   7.45043688e+00\n",
      "   8.04062528e+00   8.10028144e+00   7.89516553e+00   7.29748024e+00\n",
      "   6.80986378e+00   8.80321427e+00   9.55067446e+00   9.05822105e+00\n",
      "   7.96290033e+00   7.39690376e+00   5.40135768e+00   4.29486024e+00\n",
      "   2.64111027e+00   8.84569868e-01  -2.22515289e-01  -1.50031976e-01\n",
      "  -9.53071751e-01  -1.11667190e+00  -1.01673843e+00  -1.85620094e+00\n",
      "  -1.83861515e+00  -1.86770189e+00  -1.60595844e+00  -2.39968128e+00\n",
      "  -2.72297203e+00  -3.26830841e+00  -3.40703853e+00  -4.17490926e+00\n",
      "  -3.31298566e+00  -2.52016249e+00  -1.60304846e+00  -4.99291909e-01\n",
      "  -2.86955100e-01   1.29863021e+00   3.53122690e+00   6.41282001e+00\n",
      "   7.81962009e+00   1.03723025e+01   1.24495061e+01   1.29498850e+01\n",
      "   1.30068782e+01   1.27078629e+01   1.25561232e+01   1.22781946e+01\n",
      "   1.12265048e+01   1.00990953e+01   8.60213237e+00   8.51987216e+00\n",
      "   7.98739055e+00   7.16009139e+00   6.17106678e+00   5.65691854e+00\n",
      "   4.34404549e+00   2.29271709e+00   1.01042028e+00   5.44684370e-01\n",
      "   5.60478922e-01   3.90967772e-01   3.97294161e-01   7.28777296e-01\n",
      "  -1.69698472e-02]\n"
     ]
    }
   ],
   "source": [
    "macd=np.empty(len(ema_s),float)\n",
    "for i in range(0,len(ema_s)):\n",
    "    #print(Ema12[i+14])\n",
    "    #print(ema26[i])\n",
    "    macd[i]=ema_f[i+ns_macd-nf_macd]-ema_s[i]\n",
    "print(macd)"
   ]
  },
  {
   "cell_type": "code",
   "execution_count": 108,
   "metadata": {
    "collapsed": false
   },
   "outputs": [
    {
     "name": "stdout",
     "output_type": "stream",
     "text": [
      "[ -2.56606448e+01  -1.70449551e+01  -2.02422813e+01  -2.47350893e+01\n",
      "  -2.72911628e+01  -2.78037429e+01  -2.73428441e+01  -2.82129337e+01\n",
      "  -2.81822298e+01  -2.77707982e+01  -2.68065050e+01  -2.46127539e+01\n",
      "  -2.21987010e+01  -2.00463952e+01  -1.88416382e+01  -1.68797160e+01\n",
      "  -1.49356491e+01  -1.31082958e+01  -1.16157735e+01  -1.07248711e+01\n",
      "  -9.68766990e+00  -8.48783793e+00  -7.27716801e+00  -6.05584921e+00\n",
      "  -4.64067523e+00  -3.71196997e+00  -4.89407302e+00  -5.75009026e+00\n",
      "  -6.77243891e+00  -7.82809739e+00  -7.29998825e+00  -7.79939005e+00\n",
      "  -6.43134998e+00  -6.00019209e+00  -5.67218871e+00  -4.94293034e+00\n",
      "  -4.74601362e+00  -3.89867415e+00  -3.37385064e+00  -2.48945785e+00\n",
      "  -2.85069476e+00  -3.61416305e+00  -4.92418335e+00  -5.72053335e+00\n",
      "  -5.12575876e+00  -5.58095520e+00  -5.54931760e+00  -5.84260075e+00\n",
      "  -5.87178157e+00  -5.76072059e+00  -5.71335691e+00  -4.52304797e+00\n",
      "  -4.59909597e+00  -4.01116668e+00  -3.95075293e+00  -2.95218658e+00\n",
      "  -2.62040739e+00  -1.80570396e+00  -2.20938983e+00  -3.46573186e+00\n",
      "  -3.21795731e+00  -3.53838514e+00  -3.59594672e+00  -3.73248702e+00\n",
      "  -3.95168541e+00  -5.06357378e+00  -5.77250542e+00  -7.07901875e+00\n",
      "  -8.31792214e+00  -8.19343993e+00  -7.71057279e+00  -6.31823445e+00\n",
      "  -4.64881570e+00  -3.67159229e+00  -2.95904868e+00  -2.54814928e+00\n",
      "  -1.90521501e+00  -1.73237231e+00  -2.37652835e+00  -2.04124857e+00\n",
      "  -7.08693203e-01   1.11639939e+00   2.50567250e+00   2.20945432e+00\n",
      "   2.93339216e+00   3.91945865e+00   3.49863372e+00   5.31678192e-01\n",
      "  -9.88434295e-01  -3.69178813e+00  -6.42664612e+00  -6.40128817e+00\n",
      "  -6.66904148e+00  -6.46937195e+00  -4.65493717e+00  -2.62431235e+00\n",
      "  -1.74214973e+00  -2.43752490e+00  -4.09051086e+00  -5.45065073e+00\n",
      "  -5.35650788e+00  -5.87184887e+00  -5.25860493e+00  -3.22089409e+00\n",
      "  -1.29732128e+00  -1.15950986e+00  -2.34977715e+00  -3.13588654e+00\n",
      "  -3.74715873e+00  -3.96399980e+00  -3.84062458e+00  -4.50429784e+00\n",
      "  -4.88199856e+00  -4.99624274e+00  -4.15371333e+00  -3.49413942e+00\n",
      "  -2.63283064e+00  -2.77838268e+00  -3.23648318e+00  -3.70529146e+00\n",
      "  -3.14409805e+00  -3.11690551e+00  -2.40674719e+00  -7.74722897e-01\n",
      "   8.10307223e-01   1.73817632e+00   1.78721136e+00   2.17699993e+00\n",
      "   2.65780864e+00   2.42587463e+00   1.29115853e+00   1.26331932e+00\n",
      "   2.34746496e-01  -1.12707953e-01  -5.20853656e-01  -1.00221164e+00\n",
      "  -1.08712503e+00  -1.96451159e+00  -5.19261204e+00  -1.07330029e+01\n",
      "  -1.53335597e+01  -1.97109355e+01  -2.21476723e+01  -2.39136891e+01\n",
      "  -2.58759680e+01  -2.70905629e+01  -2.79488288e+01  -2.88531816e+01\n",
      "  -2.86920542e+01  -2.78343954e+01  -2.68468348e+01  -2.50755343e+01\n",
      "  -2.28906631e+01  -2.17771524e+01  -2.04491637e+01  -1.93647377e+01\n",
      "  -1.78875977e+01  -1.58483844e+01  -1.43413269e+01  -1.17790302e+01\n",
      "  -1.03105752e+01  -9.49568223e+00  -9.10400619e+00  -9.49110893e+00\n",
      "  -9.70697452e+00  -9.56206038e+00  -8.93431214e+00  -7.27730926e+00\n",
      "  -5.28111259e+00  -3.79496292e+00  -2.86735320e+00  -2.29617917e+00\n",
      "  -1.99242539e+00  -1.71179294e+00  -1.31606332e+00   1.13822424e-01\n",
      "   1.46334747e+00   2.36758108e+00   2.66773470e+00   1.16457602e+00\n",
      "  -5.40913831e-01  -3.19278293e+00  -4.28239225e+00  -4.82801332e+00\n",
      "  -5.29221201e+00  -4.45325415e+00  -4.25813612e+00  -5.41844951e+00\n",
      "  -6.06555031e+00  -6.73555179e+00  -6.71466347e+00  -6.63055253e+00\n",
      "  -5.83097213e+00  -5.86718724e+00  -5.47530805e+00  -4.17893196e+00\n",
      "  -2.80132753e+00  -1.69646563e+00  -4.87625500e-01   1.14628201e+00\n",
      "   2.68058241e+00   4.34271996e+00   5.44390783e+00   6.48393927e+00\n",
      "   8.81474522e+00   1.14873169e+01   1.49468267e+01   1.73600970e+01\n",
      "   1.88559630e+01   1.96790379e+01   1.97677828e+01   1.99941466e+01\n",
      "   2.03417063e+01   1.98445328e+01   1.75265247e+01   1.46355893e+01\n",
      "   1.25835392e+01   1.06545137e+01   9.24590958e+00   7.29585322e+00\n",
      "   6.89822099e+00   6.49052371e+00   6.37873212e+00   5.09207225e+00\n",
      "   2.55099033e+00   1.62950460e+00   1.22800434e+00   1.35175195e+00\n",
      "   1.52424079e+00   1.75688315e+00   2.02363277e+00   1.31053196e+00\n",
      "   1.29211358e+00   1.26774461e+00   9.39048180e-01   8.47117383e-01\n",
      "   1.15073722e+00   1.68900646e+00   2.42173585e+00   3.15567785e+00\n",
      "   3.42112325e+00   3.89563320e+00   3.77309105e+00   4.17733191e+00\n",
      "   4.32040003e+00   4.19818388e+00   4.55077028e+00   5.75156281e+00\n",
      "   7.16846222e+00   7.82035250e+00   7.57826822e+00   7.28468917e+00\n",
      "   7.28596268e+00   6.36632269e+00   5.90909680e+00   5.03122356e+00\n",
      "   6.04427190e+00   6.58003031e+00   5.83032502e+00   6.19120749e+00\n",
      "   5.56179965e+00   4.97418040e+00   3.45198093e+00   7.78554215e-01\n",
      "  -1.95986904e+00  -4.19709674e+00  -5.46732246e+00  -6.89958110e+00\n",
      "  -8.23825006e+00  -7.11432117e+00  -4.80771796e+00  -3.40923718e+00\n",
      "  -3.79436776e+00  -3.67714110e+00  -4.62909010e+00  -4.83236537e+00\n",
      "  -4.75068798e+00  -5.53079044e+00  -5.85399562e+00  -6.54307095e+00\n",
      "  -6.77225451e+00  -6.98791395e+00  -6.72863956e+00  -4.11788453e+00\n",
      "  -1.62902650e+00   2.35794205e-01   1.61677003e+00   2.95232922e+00\n",
      "   3.53987753e+00   3.76282988e+00   3.16231871e+00   3.02673510e+00\n",
      "   3.34310993e+00   4.03311175e+00   3.93185265e+00   3.82765417e+00\n",
      "   5.19971914e+00   6.97487295e+00   7.74532254e+00   8.65954576e+00\n",
      "   9.63371442e+00   9.79656777e+00   9.92419853e+00   8.22471610e+00\n",
      "   6.10307356e+00   5.67474309e+00   5.40770648e+00   5.84843043e+00\n",
      "   6.90645141e+00   7.73246270e+00   8.40158878e+00   1.03361851e+01\n",
      "   1.10496588e+01   9.55383720e+00   9.71210989e+00   9.99266986e+00\n",
      "   9.66943143e+00   1.01076984e+01   1.05456831e+01   9.44842683e+00\n",
      "   8.47629243e+00   8.06477638e+00   7.86743730e+00   7.33599002e+00\n",
      "   7.91373371e+00   7.59972967e+00   6.67041334e+00   6.23325197e+00\n",
      "   5.70643605e+00   3.35401406e+00   1.72640122e+00   1.24680255e+00\n",
      "   1.32111353e+00   8.48153600e-01   7.65048245e-03  -9.93970484e-01\n",
      "  -1.32545163e+00  -8.76834854e-01  -6.31829286e-01  -1.30336841e-01\n",
      "   2.99155380e-01   1.48500649e+00   2.17620030e+00   3.03834702e+00\n",
      "   4.17377995e+00   3.77055755e+00   3.91024875e+00   3.82196978e+00\n",
      "   3.83449230e+00   4.20425220e+00   4.30404412e+00   5.08223957e+00\n",
      "   5.78080022e+00   6.29652950e+00   6.22758202e+00   5.95102680e+00\n",
      "   5.73673393e+00   5.63269555e+00   4.92779145e+00   5.39947296e+00\n",
      "   6.34008413e+00   6.89788395e+00   6.79840649e+00   7.25005913e+00\n",
      "   7.81804841e+00   7.87720755e+00   6.24074013e+00   5.39404069e+00\n",
      "   5.76447229e+00   5.51755150e+00   5.21814003e+00   4.33776763e+00\n",
      "   2.60223065e+00   1.50479021e+00   3.25487415e-01  -1.53072403e+00\n",
      "  -2.91333159e+00  -4.41488074e+00  -6.82931519e+00  -8.46444970e+00\n",
      "  -9.69773800e+00  -1.03101691e+01  -1.05432685e+01  -1.05578818e+01\n",
      "  -9.84593628e+00  -8.99804807e+00  -9.58653396e+00  -9.41344987e+00\n",
      "  -8.74697716e+00  -7.60342187e+00  -5.77125266e+00  -5.29828531e+00\n",
      "  -4.20922786e+00  -2.69057341e+00  -6.57205136e-01   6.69760953e-01\n",
      "   1.22872571e+00   2.29961006e+00   3.16187432e+00   3.95376940e+00\n",
      "   4.84025393e+00   5.08875032e+00   4.95741557e+00   5.54229672e+00\n",
      "   6.42558198e+00   6.89361936e+00   7.34209743e+00   7.38404352e+00\n",
      "   7.55292957e+00   7.91188098e+00   7.56049668e+00   7.17510447e+00\n",
      "   6.36620625e+00   5.62480500e+00   6.99806836e+00   7.61053317e+00\n",
      "   7.05596249e+00   6.14698589e+00   5.71417532e+00   3.94984595e+00\n",
      "   3.06816516e+00   1.73934784e+00   3.86464207e-01  -6.57948487e-01\n",
      "  -6.64619987e-01  -1.41611908e+00  -1.57474522e+00  -1.64837260e+00\n",
      "  -2.14755789e+00  -1.97492462e+00  -1.81477121e+00  -1.38462513e+00\n",
      "  -1.97713604e+00  -1.91865158e+00  -1.90840135e+00  -1.44306682e+00\n",
      "  -1.77600339e+00  -5.75928021e-01   4.73771238e-01   1.30753822e+00\n",
      "   2.20194212e+00   2.31200851e+00   3.55012880e+00   5.28062044e+00\n",
      "   7.37555696e+00   8.27551513e+00   1.00182685e+01   1.16635793e+01\n",
      "   1.19573861e+01   1.18375209e+01   1.14005037e+01   1.11762822e+01\n",
      "   1.06913648e+01   9.43974723e+00   8.28136029e+00   6.99064277e+00\n",
      "   6.92799351e+00   6.46810599e+00   5.80753194e+00   5.08260889e+00\n",
      "   4.52214086e+00]\n"
     ]
    }
   ],
   "source": [
    "#taking macd average of 9 days\n",
    "n_macd=9\n",
    "macdn=np.empty(len(macd)+1-n_macd,float)\n",
    "macdn[0]=stat.mean(macd[0:n_macd-1])\n",
    "for i in range(1,len(macd)-n_macd+1):\n",
    "    e=macd[n_macd-1+i]-macd[i-1]\n",
    "    macdn[i]=e*(2/(n_macd+1)) + macd[i-1]\n",
    "print(macdn)"
   ]
  },
  {
   "cell_type": "code",
   "execution_count": 109,
   "metadata": {
    "collapsed": false
   },
   "outputs": [
    {
     "data": {
      "image/png": "[encoded data removed]",
      "text/plain": [
       "<matplotlib.figure.Figure at 0x38638be978>"
      ]
     },
     "metadata": {},
     "output_type": "display_data"
    }
   ],
   "source": [
    "da=[]\n",
    "for i in range(25,494):\n",
    "    da.append(dates[i])\n",
    "    \n",
    "x = [dt.datetime.strptime(d,'%d-%b-%Y').date() for d in da ]\n",
    "#fig=plt.figure(figsize=(8, 6), dpi= 800, facecolor='w', edgecolor='k')\n",
    "#fig, ax = plt.subplots()\n",
    "#fig=plt.figure(figsize=(8, 6), dpi= 800, facecolor='w', edgecolor='k')\n",
    "plt.plot(x,ema_s, '-r', label='EMA 26')\n",
    "plt.plot(x,ema_f[ns_macd-nf_macd:], '-b', label='EMA 12')\n",
    "#ax.plot(x,bbd, '-g', label='Lower band')\n",
    "#legend((sma, bbu, bbd), ('label1', 'label2', 'label3'))\n",
    "# Now add the legend with some customizations.\n",
    "#legend = ax.legend(loc='upper center', shadow=False)\n",
    "\n",
    "#plt.plot(x,ema26)\n",
    "#plt.plot(x,Ema12[14:])\n",
    "#plt.plot(x,macd)\n",
    "plt.gcf().autofmt_xdate()\n",
    "plt.title('MACD',size=16)\n",
    "plt.ylabel('Stock Price',size=16)\n",
    "plt.xlabel('Time',size=16)\n",
    "#plt.savefig('6.png')\n",
    "plt.show() "
   ]
  },
  {
   "cell_type": "code",
   "execution_count": 110,
   "metadata": {
    "collapsed": false
   },
   "outputs": [
    {
     "data": {
      "image/png": "[encoded data removed]",
      "text/plain": [
       "<matplotlib.figure.Figure at 0x38638fc2e8>"
      ]
     },
     "metadata": {},
     "output_type": "display_data"
    }
   ],
   "source": [
    "x=range(len(macdn))\n",
    "#fig=plt.figure(figsize=(8, 6), dpi= 800, facecolor='w', edgecolor='k')\n",
    "plt.title('MACD',size=20)\n",
    "plt.xlabel('Period',size=20)\n",
    "plt.ylabel('MACD Value',size=20)\n",
    "plt.bar(x,macdn)\n",
    "\n",
    "\n",
    "fig = plt.gcf()\n",
    "#plt.savefig('7.png')\n",
    "plt.show()"
   ]
  },
  {
   "cell_type": "code",
   "execution_count": 111,
   "metadata": {
    "collapsed": true
   },
   "outputs": [],
   "source": [
    "obv=np.empty(len(y)-1,float)\n",
    "obv[0]=vole[0]\n",
    "for i in range(1,len(y)-1):\n",
    "    if y[i-1]>y[i]:\n",
    "        obv[i]=obv[i-1]-vole[i]\n",
    "    if y[i-1]<y[i]:\n",
    "        obv[i]=obv[i-1]+vole[i]\n",
    "    if y[i+1]==y[i]:\n",
    "        obv[i]=vole[i-1]\n",
    "#print(obv)\n",
    "#print(len(obv))"
   ]
  },
  {
   "cell_type": "code",
   "execution_count": 112,
   "metadata": {
    "collapsed": false,
    "scrolled": true
   },
   "outputs": [
    {
     "data": {
      "image/png": "[encoded data removed]",
      "text/plain": [
       "<matplotlib.figure.Figure at 0x386390f9b0>"
      ]
     },
     "metadata": {},
     "output_type": "display_data"
    },
    {
     "name": "stdout",
     "output_type": "stream",
     "text": [
      "5.0826088862\n",
      "461\n"
     ]
    }
   ],
   "source": [
    "da=[]\n",
    "for i in range(1,494):\n",
    "    da.append(dates[i])\n",
    "    \n",
    "x = [dt.datetime.strptime(d,'%d-%b-%Y').date() for d in da ]\n",
    "#fig=plt.figure(figsize=(8, 6), dpi= 800, facecolor='w', edgecolor='k')\n",
    "plt.plot(x,obv)\n",
    "plt.gcf().autofmt_xdate()\n",
    "plt.title('On Balance Volume',size=20)\n",
    "plt.ylabel('OBV value',size=20)\n",
    "plt.xlabel('Time',size=20)\n",
    "#plt.savefig('8.png')\n",
    "plt.show() \n",
    "print(macdn[459])\n",
    "print(len(macdn))"
   ]
  },
  {
   "cell_type": "code",
   "execution_count": 113,
   "metadata": {
    "collapsed": false
   },
   "outputs": [],
   "source": [
    "import xlsxwriter\n",
    "\n",
    "# Create a workbook and add a worksheet.\n",
    "workbook = xlsxwriter.Workbook('pro2.csv')\n",
    "worksheet = workbook.add_worksheet()\n",
    "bold = workbook.add_format({'bold': True})\n",
    "# Some data we want to write to the worksheet.\n",
    "worksheet.write('A1','PRICE', bold)\n",
    "worksheet.write('B1','SMA', bold)\n",
    "worksheet.write('C1','EMA12', bold)\n",
    "worksheet.write('D1','EMA26', bold)\n",
    "worksheet.write('E1','MACD9', bold)\n",
    "\n",
    "# Start from the first cell. Rows and columns are zero indexed.\n",
    "row = 1\n",
    "col = 0\n",
    "\n",
    "# Iterate over the data and write it out row by row.\n",
    "for i in range(1,len(y)):\n",
    "    worksheet.write(row, col,y[i-1])\n",
    "   \n",
    "    row += 1\n",
    "row =50\n",
    "col =1\n",
    "for i in range(1,len(sma)):\n",
    "    worksheet.write(row, col,sma[i-1])\n",
    "   \n",
    "    row += 1\n",
    "row =12\n",
    "col =2\n",
    "for i in range(1,len(ema_f)):\n",
    "    worksheet.write(row, col,ema_f[i-1])\n",
    "   \n",
    "    row += 1\n",
    "row =26\n",
    "col =3\n",
    "for i in range(1,len(ema_s)):\n",
    "    worksheet.write(row, col,ema_s[i-1])\n",
    "   \n",
    "    row += 1\n",
    "row =34\n",
    "col =4\n",
    "for i in range(1,len(macdn)):\n",
    "    worksheet.write(row, col,macdn[i-1])\n",
    "   \n",
    "    row += 1\n",
    "workbook.close()"
   ]
  },
  {
   "cell_type": "code",
   "execution_count": 115,
   "metadata": {
    "collapsed": false,
    "scrolled": true
   },
   "outputs": [
    {
     "ename": "UnicodeDecodeError",
     "evalue": "'charmap' codec can't decode byte 0x8d in position 54: character maps to <undefined>",
     "output_type": "error",
     "traceback": [
      "\u001b[0;31m---------------------------------------------------------------------------\u001b[0m",
      "\u001b[0;31mUnicodeDecodeError\u001b[0m                        Traceback (most recent call last)",
      "\u001b[0;32m<ipython-input-115-b82424888fbf>\u001b[0m in \u001b[0;36m<module>\u001b[0;34m()\u001b[0m\n\u001b[1;32m      1\u001b[0m \u001b[1;33m\u001b[0m\u001b[0m\n\u001b[1;32m      2\u001b[0m \u001b[0mf\u001b[0m \u001b[1;33m=\u001b[0m \u001b[0mopen\u001b[0m\u001b[1;33m(\u001b[0m\u001b[1;34m\"pro2.csv\"\u001b[0m\u001b[1;33m)\u001b[0m\u001b[1;33m\u001b[0m\u001b[0m\n\u001b[0;32m----> 3\u001b[0;31m \u001b[0mf\u001b[0m\u001b[1;33m.\u001b[0m\u001b[0mreadline\u001b[0m\u001b[1;33m(\u001b[0m\u001b[1;33m)\u001b[0m  \u001b[1;31m# skip the header\u001b[0m\u001b[1;33m\u001b[0m\u001b[0m\n\u001b[0m\u001b[1;32m      4\u001b[0m \u001b[0mdata\u001b[0m \u001b[1;33m=\u001b[0m \u001b[0mnp\u001b[0m\u001b[1;33m.\u001b[0m\u001b[0mloadtxt\u001b[0m\u001b[1;33m(\u001b[0m\u001b[0mf\u001b[0m\u001b[1;33m)\u001b[0m\u001b[1;33m\u001b[0m\u001b[0m\n\u001b[1;32m      5\u001b[0m \u001b[1;31m#data = pd.read_csv(\"pro2.xlsx\")\u001b[0m\u001b[1;33m\u001b[0m\u001b[1;33m\u001b[0m\u001b[0m\n",
      "\u001b[0;32mC:\\Users\\Shubham\\Anaconda3\\lib\\encodings\\cp1252.py\u001b[0m in \u001b[0;36mdecode\u001b[0;34m(self, input, final)\u001b[0m\n\u001b[1;32m     21\u001b[0m \u001b[1;32mclass\u001b[0m \u001b[0mIncrementalDecoder\u001b[0m\u001b[1;33m(\u001b[0m\u001b[0mcodecs\u001b[0m\u001b[1;33m.\u001b[0m\u001b[0mIncrementalDecoder\u001b[0m\u001b[1;33m)\u001b[0m\u001b[1;33m:\u001b[0m\u001b[1;33m\u001b[0m\u001b[0m\n\u001b[1;32m     22\u001b[0m     \u001b[1;32mdef\u001b[0m \u001b[0mdecode\u001b[0m\u001b[1;33m(\u001b[0m\u001b[0mself\u001b[0m\u001b[1;33m,\u001b[0m \u001b[0minput\u001b[0m\u001b[1;33m,\u001b[0m \u001b[0mfinal\u001b[0m\u001b[1;33m=\u001b[0m\u001b[1;32mFalse\u001b[0m\u001b[1;33m)\u001b[0m\u001b[1;33m:\u001b[0m\u001b[1;33m\u001b[0m\u001b[0m\n\u001b[0;32m---> 23\u001b[0;31m         \u001b[1;32mreturn\u001b[0m \u001b[0mcodecs\u001b[0m\u001b[1;33m.\u001b[0m\u001b[0mcharmap_decode\u001b[0m\u001b[1;33m(\u001b[0m\u001b[0minput\u001b[0m\u001b[1;33m,\u001b[0m\u001b[0mself\u001b[0m\u001b[1;33m.\u001b[0m\u001b[0merrors\u001b[0m\u001b[1;33m,\u001b[0m\u001b[0mdecoding_table\u001b[0m\u001b[1;33m)\u001b[0m\u001b[1;33m[\u001b[0m\u001b[1;36m0\u001b[0m\u001b[1;33m]\u001b[0m\u001b[1;33m\u001b[0m\u001b[0m\n\u001b[0m\u001b[1;32m     24\u001b[0m \u001b[1;33m\u001b[0m\u001b[0m\n\u001b[1;32m     25\u001b[0m \u001b[1;32mclass\u001b[0m \u001b[0mStreamWriter\u001b[0m\u001b[1;33m(\u001b[0m\u001b[0mCodec\u001b[0m\u001b[1;33m,\u001b[0m\u001b[0mcodecs\u001b[0m\u001b[1;33m.\u001b[0m\u001b[0mStreamWriter\u001b[0m\u001b[1;33m)\u001b[0m\u001b[1;33m:\u001b[0m\u001b[1;33m\u001b[0m\u001b[0m\n",
      "\u001b[0;31mUnicodeDecodeError\u001b[0m: 'charmap' codec can't decode byte 0x8d in position 54: character maps to <undefined>"
     ]
    }
   ],
   "source": [
    "\n",
    "f = open(\"pro2.csv\")\n",
    "f.readline()  # skip the header\n",
    "data = np.loadtxt(f)\n",
    "#data = pd.read_csv(\"pro2.xlsx\")\n",
    "#csv_file_object = csv.reader(open('pro3.csv','rb'))\n",
    "#header = csv_file_object.next()\n",
    "\n"
   ]
  },
  {
   "cell_type": "code",
   "execution_count": 116,
   "metadata": {
    "collapsed": false
   },
   "outputs": [
    {
     "ename": "UnicodeDecodeError",
     "evalue": "'utf-8' codec can't decode byte 0xb3 in position 0: invalid start byte",
     "output_type": "error",
     "traceback": [
      "\u001b[0;31m---------------------------------------------------------------------------\u001b[0m",
      "\u001b[0;31mUnicodeDecodeError\u001b[0m                        Traceback (most recent call last)",
      "\u001b[0;32m<ipython-input-116-6d5db337fa9d>\u001b[0m in \u001b[0;36m<module>\u001b[0;34m()\u001b[0m\n\u001b[1;32m      3\u001b[0m \u001b[1;33m\u001b[0m\u001b[0m\n\u001b[1;32m      4\u001b[0m \u001b[1;31m# comma delimited is the default\u001b[0m\u001b[1;33m\u001b[0m\u001b[1;33m\u001b[0m\u001b[0m\n\u001b[0;32m----> 5\u001b[0;31m \u001b[0mdf\u001b[0m \u001b[1;33m=\u001b[0m \u001b[0mpd\u001b[0m\u001b[1;33m.\u001b[0m\u001b[0mread_csv\u001b[0m\u001b[1;33m(\u001b[0m\u001b[0minput_file\u001b[0m\u001b[1;33m,\u001b[0m \u001b[0mheader\u001b[0m \u001b[1;33m=\u001b[0m \u001b[1;36m0\u001b[0m\u001b[1;33m)\u001b[0m\u001b[1;33m\u001b[0m\u001b[0m\n\u001b[0m",
      "\u001b[0;32mC:\\Users\\Shubham\\Anaconda3\\lib\\site-packages\\pandas\\io\\parsers.py\u001b[0m in \u001b[0;36mparser_f\u001b[0;34m(filepath_or_buffer, sep, delimiter, header, names, index_col, usecols, squeeze, prefix, mangle_dupe_cols, dtype, engine, converters, true_values, false_values, skipinitialspace, skiprows, nrows, na_values, keep_default_na, na_filter, verbose, skip_blank_lines, parse_dates, infer_datetime_format, keep_date_col, date_parser, dayfirst, iterator, chunksize, compression, thousands, decimal, lineterminator, quotechar, quoting, escapechar, comment, encoding, dialect, tupleize_cols, error_bad_lines, warn_bad_lines, skipfooter, skip_footer, doublequote, delim_whitespace, as_recarray, compact_ints, use_unsigned, low_memory, buffer_lines, memory_map, float_precision)\u001b[0m\n\u001b[1;32m    644\u001b[0m                     skip_blank_lines=skip_blank_lines)\n\u001b[1;32m    645\u001b[0m \u001b[1;33m\u001b[0m\u001b[0m\n\u001b[0;32m--> 646\u001b[0;31m         \u001b[1;32mreturn\u001b[0m \u001b[0m_read\u001b[0m\u001b[1;33m(\u001b[0m\u001b[0mfilepath_or_buffer\u001b[0m\u001b[1;33m,\u001b[0m \u001b[0mkwds\u001b[0m\u001b[1;33m)\u001b[0m\u001b[1;33m\u001b[0m\u001b[0m\n\u001b[0m\u001b[1;32m    647\u001b[0m \u001b[1;33m\u001b[0m\u001b[0m\n\u001b[1;32m    648\u001b[0m     \u001b[0mparser_f\u001b[0m\u001b[1;33m.\u001b[0m\u001b[0m__name__\u001b[0m \u001b[1;33m=\u001b[0m \u001b[0mname\u001b[0m\u001b[1;33m\u001b[0m\u001b[0m\n",
      "\u001b[0;32mC:\\Users\\Shubham\\Anaconda3\\lib\\site-packages\\pandas\\io\\parsers.py\u001b[0m in \u001b[0;36m_read\u001b[0;34m(filepath_or_buffer, kwds)\u001b[0m\n\u001b[1;32m    387\u001b[0m \u001b[1;33m\u001b[0m\u001b[0m\n\u001b[1;32m    388\u001b[0m     \u001b[1;31m# Create the parser.\u001b[0m\u001b[1;33m\u001b[0m\u001b[1;33m\u001b[0m\u001b[0m\n\u001b[0;32m--> 389\u001b[0;31m     \u001b[0mparser\u001b[0m \u001b[1;33m=\u001b[0m \u001b[0mTextFileReader\u001b[0m\u001b[1;33m(\u001b[0m\u001b[0mfilepath_or_buffer\u001b[0m\u001b[1;33m,\u001b[0m \u001b[1;33m**\u001b[0m\u001b[0mkwds\u001b[0m\u001b[1;33m)\u001b[0m\u001b[1;33m\u001b[0m\u001b[0m\n\u001b[0m\u001b[1;32m    390\u001b[0m \u001b[1;33m\u001b[0m\u001b[0m\n\u001b[1;32m    391\u001b[0m     \u001b[1;32mif\u001b[0m \u001b[1;33m(\u001b[0m\u001b[0mnrows\u001b[0m \u001b[1;32mis\u001b[0m \u001b[1;32mnot\u001b[0m \u001b[1;32mNone\u001b[0m\u001b[1;33m)\u001b[0m \u001b[1;32mand\u001b[0m \u001b[1;33m(\u001b[0m\u001b[0mchunksize\u001b[0m \u001b[1;32mis\u001b[0m \u001b[1;32mnot\u001b[0m \u001b[1;32mNone\u001b[0m\u001b[1;33m)\u001b[0m\u001b[1;33m:\u001b[0m\u001b[1;33m\u001b[0m\u001b[0m\n",
      "\u001b[0;32mC:\\Users\\Shubham\\Anaconda3\\lib\\site-packages\\pandas\\io\\parsers.py\u001b[0m in \u001b[0;36m__init__\u001b[0;34m(self, f, engine, **kwds)\u001b[0m\n\u001b[1;32m    728\u001b[0m             \u001b[0mself\u001b[0m\u001b[1;33m.\u001b[0m\u001b[0moptions\u001b[0m\u001b[1;33m[\u001b[0m\u001b[1;34m'has_index_names'\u001b[0m\u001b[1;33m]\u001b[0m \u001b[1;33m=\u001b[0m \u001b[0mkwds\u001b[0m\u001b[1;33m[\u001b[0m\u001b[1;34m'has_index_names'\u001b[0m\u001b[1;33m]\u001b[0m\u001b[1;33m\u001b[0m\u001b[0m\n\u001b[1;32m    729\u001b[0m \u001b[1;33m\u001b[0m\u001b[0m\n\u001b[0;32m--> 730\u001b[0;31m         \u001b[0mself\u001b[0m\u001b[1;33m.\u001b[0m\u001b[0m_make_engine\u001b[0m\u001b[1;33m(\u001b[0m\u001b[0mself\u001b[0m\u001b[1;33m.\u001b[0m\u001b[0mengine\u001b[0m\u001b[1;33m)\u001b[0m\u001b[1;33m\u001b[0m\u001b[0m\n\u001b[0m\u001b[1;32m    731\u001b[0m \u001b[1;33m\u001b[0m\u001b[0m\n\u001b[1;32m    732\u001b[0m     \u001b[1;32mdef\u001b[0m \u001b[0mclose\u001b[0m\u001b[1;33m(\u001b[0m\u001b[0mself\u001b[0m\u001b[1;33m)\u001b[0m\u001b[1;33m:\u001b[0m\u001b[1;33m\u001b[0m\u001b[0m\n",
      "\u001b[0;32mC:\\Users\\Shubham\\Anaconda3\\lib\\site-packages\\pandas\\io\\parsers.py\u001b[0m in \u001b[0;36m_make_engine\u001b[0;34m(self, engine)\u001b[0m\n\u001b[1;32m    921\u001b[0m     \u001b[1;32mdef\u001b[0m \u001b[0m_make_engine\u001b[0m\u001b[1;33m(\u001b[0m\u001b[0mself\u001b[0m\u001b[1;33m,\u001b[0m \u001b[0mengine\u001b[0m\u001b[1;33m=\u001b[0m\u001b[1;34m'c'\u001b[0m\u001b[1;33m)\u001b[0m\u001b[1;33m:\u001b[0m\u001b[1;33m\u001b[0m\u001b[0m\n\u001b[1;32m    922\u001b[0m         \u001b[1;32mif\u001b[0m \u001b[0mengine\u001b[0m \u001b[1;33m==\u001b[0m \u001b[1;34m'c'\u001b[0m\u001b[1;33m:\u001b[0m\u001b[1;33m\u001b[0m\u001b[0m\n\u001b[0;32m--> 923\u001b[0;31m             \u001b[0mself\u001b[0m\u001b[1;33m.\u001b[0m\u001b[0m_engine\u001b[0m \u001b[1;33m=\u001b[0m \u001b[0mCParserWrapper\u001b[0m\u001b[1;33m(\u001b[0m\u001b[0mself\u001b[0m\u001b[1;33m.\u001b[0m\u001b[0mf\u001b[0m\u001b[1;33m,\u001b[0m \u001b[1;33m**\u001b[0m\u001b[0mself\u001b[0m\u001b[1;33m.\u001b[0m\u001b[0moptions\u001b[0m\u001b[1;33m)\u001b[0m\u001b[1;33m\u001b[0m\u001b[0m\n\u001b[0m\u001b[1;32m    924\u001b[0m         \u001b[1;32melse\u001b[0m\u001b[1;33m:\u001b[0m\u001b[1;33m\u001b[0m\u001b[0m\n\u001b[1;32m    925\u001b[0m             \u001b[1;32mif\u001b[0m \u001b[0mengine\u001b[0m \u001b[1;33m==\u001b[0m \u001b[1;34m'python'\u001b[0m\u001b[1;33m:\u001b[0m\u001b[1;33m\u001b[0m\u001b[0m\n",
      "\u001b[0;32mC:\\Users\\Shubham\\Anaconda3\\lib\\site-packages\\pandas\\io\\parsers.py\u001b[0m in \u001b[0;36m__init__\u001b[0;34m(self, src, **kwds)\u001b[0m\n\u001b[1;32m   1388\u001b[0m         \u001b[0mkwds\u001b[0m\u001b[1;33m[\u001b[0m\u001b[1;34m'allow_leading_cols'\u001b[0m\u001b[1;33m]\u001b[0m \u001b[1;33m=\u001b[0m \u001b[0mself\u001b[0m\u001b[1;33m.\u001b[0m\u001b[0mindex_col\u001b[0m \u001b[1;32mis\u001b[0m \u001b[1;32mnot\u001b[0m \u001b[1;32mFalse\u001b[0m\u001b[1;33m\u001b[0m\u001b[0m\n\u001b[1;32m   1389\u001b[0m \u001b[1;33m\u001b[0m\u001b[0m\n\u001b[0;32m-> 1390\u001b[0;31m         \u001b[0mself\u001b[0m\u001b[1;33m.\u001b[0m\u001b[0m_reader\u001b[0m \u001b[1;33m=\u001b[0m \u001b[0m_parser\u001b[0m\u001b[1;33m.\u001b[0m\u001b[0mTextReader\u001b[0m\u001b[1;33m(\u001b[0m\u001b[0msrc\u001b[0m\u001b[1;33m,\u001b[0m \u001b[1;33m**\u001b[0m\u001b[0mkwds\u001b[0m\u001b[1;33m)\u001b[0m\u001b[1;33m\u001b[0m\u001b[0m\n\u001b[0m\u001b[1;32m   1391\u001b[0m \u001b[1;33m\u001b[0m\u001b[0m\n\u001b[1;32m   1392\u001b[0m         \u001b[1;31m# XXX\u001b[0m\u001b[1;33m\u001b[0m\u001b[1;33m\u001b[0m\u001b[0m\n",
      "\u001b[0;32mpandas\\parser.pyx\u001b[0m in \u001b[0;36mpandas.parser.TextReader.__cinit__ (pandas\\parser.c:6086)\u001b[0;34m()\u001b[0m\n",
      "\u001b[0;32mpandas\\parser.pyx\u001b[0m in \u001b[0;36mpandas.parser.TextReader._get_header (pandas\\parser.c:9266)\u001b[0;34m()\u001b[0m\n",
      "\u001b[0;31mUnicodeDecodeError\u001b[0m: 'utf-8' codec can't decode byte 0xb3 in position 0: invalid start byte"
     ]
    }
   ],
   "source": [
    "input_file = \"pro2.csv\"\n",
    "\n",
    "\n",
    "# comma delimited is the default\n",
    "df = pd.read_csv(input_file, header = 0)\n"
   ]
  },
  {
   "cell_type": "code",
   "execution_count": null,
   "metadata": {
    "collapsed": true
   },
   "outputs": [],
   "source": [
    "print(len(macdn))\n",
    "print(macdn[0])"
   ]
  },
  {
   "cell_type": "code",
   "execution_count": null,
   "metadata": {
    "collapsed": true
   },
   "outputs": [],
   "source": [
    "print(len(sma))\n",
    "print(macdn)"
   ]
  },
  {
   "cell_type": "code",
   "execution_count": null,
   "metadata": {
    "collapsed": true
   },
   "outputs": [],
   "source": [
    "\n",
    "    "
   ]
  },
  {
   "cell_type": "code",
   "execution_count": null,
   "metadata": {
    "collapsed": true,
    "scrolled": true
   },
   "outputs": [],
   "source": []
  },
  {
   "cell_type": "code",
   "execution_count": null,
   "metadata": {
    "collapsed": true
   },
   "outputs": [],
   "source": [
    "z= np.column_stack((sma,ema,macd9[16:],y[49:]))\n",
    "print(len(sma))\n",
    "a=[]\n",
    "for i in range(0,len(sma)):\n",
    "    \n",
    "    if macd9[i+16]>0:\n",
    "        a.append(1)\n",
    "    if macd9[i+16]<0:\n",
    "        a.append(0)\n",
    "print(len(a))\n",
    "print(a)\n",
    "be= np.column_stack((macd9[16:],a))\n",
    "print(be[401:])"
   ]
  },
  {
   "cell_type": "code",
   "execution_count": null,
   "metadata": {
    "collapsed": true
   },
   "outputs": [],
   "source": [
    "print(z[1])"
   ]
  },
  {
   "cell_type": "code",
   "execution_count": null,
   "metadata": {
    "collapsed": true,
    "scrolled": true
   },
   "outputs": [],
   "source": [
    "from sklearn.neural_network import MLPClassifier\n",
    "\n",
    "#y = [0, 1]\n",
    "clf = MLPClassifier(solver='lbfgs', alpha=.0001,hidden_layer_sizes=(35, 2), random_state=1)\n",
    "clf.fit(z[:400],a[:400])                         \n",
    "MLPClassifier(activation='logistic', alpha=1e-05, batch_size='auto',\n",
    "       beta_1=0.8, beta_2=0.9, early_stopping=True,\n",
    "       epsilon=.0001, hidden_layer_sizes=(15,7), learning_rate='adaptive',\n",
    "       learning_rate_init=0.001, max_iter=120, momentum=0.5,\n",
    "       nesterovs_momentum=False, power_t=0.5, random_state=5, shuffle=False,\n",
    "       solver='lbfgs', tol=0.0001, validation_fraction=0.01, verbose=True,\n",
    "       warm_start=True)"
   ]
  },
  {
   "cell_type": "code",
   "execution_count": null,
   "metadata": {
    "collapsed": true
   },
   "outputs": [],
   "source": [
    "clf.predict_proba(z[441:])"
   ]
  },
  {
   "cell_type": "code",
   "execution_count": null,
   "metadata": {
    "collapsed": true
   },
   "outputs": [],
   "source": [
    "print(z[431:])"
   ]
  },
  {
   "cell_type": "code",
   "execution_count": null,
   "metadata": {
    "collapsed": true
   },
   "outputs": [],
   "source": [
    "from sklearn.neighbors import KNeighborsClassifier\n",
    "knn = KNeighborsClassifier()\n",
    "knn.fit(z[:400],a[:400]) \n",
    "KNeighborsClassifier(algorithm='auto', leaf_size=10, metric='minkowski',\n",
    "           metric_params=None, n_jobs=1, n_neighbors=5, p=2,\n",
    "           weights='uniform')\n"
   ]
  },
  {
   "cell_type": "code",
   "execution_count": null,
   "metadata": {
    "collapsed": true
   },
   "outputs": [],
   "source": [
    "k=knn.predict(z[401:420])"
   ]
  },
  {
   "cell_type": "code",
   "execution_count": null,
   "metadata": {
    "collapsed": true
   },
   "outputs": [],
   "source": [
    "z= np.column_stack((k,a[401:420]))\n",
    "print(z)"
   ]
  },
  {
   "cell_type": "code",
   "execution_count": null,
   "metadata": {
    "collapsed": true
   },
   "outputs": [],
   "source": [
    "print(len(k))\n",
    "print(len(k))"
   ]
  }
 ],
 "metadata": {
  "celltoolbar": "Raw Cell Format",
  "kernelspec": {
   "display_name": "Python 3",
   "language": "python",
   "name": "python3"
  },
  "language_info": {
   "codemirror_mode": {
    "name": "ipython",
    "version": 3
   },
   "file_extension": ".py",
   "mimetype": "text/x-python",
   "name": "python",
   "nbconvert_exporter": "python",
   "pygments_lexer": "ipython3",
   "version": "3.6.0"
  }
 },
 "nbformat": 4,
 "nbformat_minor": 2
}
